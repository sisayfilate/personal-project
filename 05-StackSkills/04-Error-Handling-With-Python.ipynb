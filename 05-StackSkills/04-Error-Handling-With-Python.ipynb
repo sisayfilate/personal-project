{
 "cells": [
  {
   "cell_type": "markdown",
   "metadata": {},
   "source": [
    "<h3>Basics of Error Handling -- try and except</h3>"
   ]
  },
  {
   "cell_type": "code",
   "execution_count": 3,
   "metadata": {
    "ExecuteTime": {
     "end_time": "2020-01-21T23:37:14.859925Z",
     "start_time": "2020-01-21T23:37:14.852503Z"
    }
   },
   "outputs": [
    {
     "name": "stdout",
     "output_type": "stream",
     "text": [
      "None\n",
      "End\n"
     ]
    }
   ],
   "source": [
    "try:\n",
    "    i = 0\n",
    "    j = 10/i\n",
    "except:\n",
    "    j = None\n",
    "print(j)\n",
    "print(\"End\")"
   ]
  },
  {
   "cell_type": "markdown",
   "metadata": {},
   "source": [
    "<h3>Handling Multiple Errors with Multiple except blocks</h3>"
   ]
  },
  {
   "cell_type": "code",
   "execution_count": 12,
   "metadata": {
    "ExecuteTime": {
     "end_time": "2020-01-21T23:49:17.558683Z",
     "start_time": "2020-01-21T23:49:17.546416Z"
    }
   },
   "outputs": [
    {
     "name": "stdout",
     "output_type": "stream",
     "text": [
      "ZeroDivisionError\n",
      "0\n",
      "END\n"
     ]
    }
   ],
   "source": [
    "try:\n",
    "    i = 0\n",
    "    j = 10/i\n",
    "    values = [1, '1']\n",
    "    sum(values)\n",
    "except TypeError:\n",
    "    print('TypeError')\n",
    "    j = 10\n",
    "except ZeroDivisionError:\n",
    "    print(\"ZeroDivisionError\")\n",
    "    j = 0\n",
    "    \n",
    "print(j)\n",
    "print(\"END\")\n"
   ]
  },
  {
   "cell_type": "code",
   "execution_count": 17,
   "metadata": {
    "ExecuteTime": {
     "end_time": "2020-01-22T00:17:55.060076Z",
     "start_time": "2020-01-22T00:17:55.052322Z"
    }
   },
   "outputs": [
    {
     "name": "stdout",
     "output_type": "stream",
     "text": [
      "unsupported operand type(s) for +: 'int' and 'str'\n",
      "END\n"
     ]
    }
   ],
   "source": [
    "try:\n",
    "    sum([1, '1'])\n",
    "except TypeError as error:\n",
    "    print(error)\n",
    "print(\"END\")"
   ]
  },
  {
   "cell_type": "markdown",
   "metadata": {},
   "source": [
    "<h3>Error Handling -- finally and else</h3>"
   ]
  },
  {
   "cell_type": "code",
   "execution_count": 24,
   "metadata": {
    "ExecuteTime": {
     "end_time": "2020-01-22T00:26:19.006249Z",
     "start_time": "2020-01-22T00:26:18.994665Z"
    }
   },
   "outputs": [
    {
     "name": "stdout",
     "output_type": "stream",
     "text": [
      "Saving to the Database\n",
      "Excuting the final code of line\n",
      "10.0\n",
      "END\n"
     ]
    }
   ],
   "source": [
    "# open file/resource\n",
    "try:\n",
    "    # business logic to read a file\n",
    "    i = 1\n",
    "    j = 10/i\n",
    "    values = [1, 1]\n",
    "    sum(values)\n",
    "except TypeError:\n",
    "    print('TypeError')\n",
    "    j = 10\n",
    "except ZeroDivisionError:\n",
    "    print(\"ZeroDivisionError\")\n",
    "    j = 0\n",
    "else:\n",
    "    print(\"Saving to the Database\")\n",
    "finally:\n",
    "    # close\n",
    "    print(\"Excuting the final code of line\")\n",
    "print(j)\n",
    "print(\"END\")"
   ]
  },
  {
   "cell_type": "code",
   "execution_count": 44,
   "metadata": {
    "ExecuteTime": {
     "end_time": "2020-01-22T01:33:14.067207Z",
     "start_time": "2020-01-22T01:33:14.057660Z"
    }
   },
   "outputs": [
    {
     "name": "stdout",
     "output_type": "stream",
     "text": [
      "('USD', 50)\n"
     ]
    }
   ],
   "source": [
    "class Currency():\n",
    "    def __init__(self, currency, amount):\n",
    "        self.currency = currency\n",
    "        self.amount = amount\n",
    "    \n",
    "    def __repr__(self):\n",
    "        return repr((self.currency, self.amount))\n",
    "    \n",
    "    def __add__(self, other):\n",
    "        if self.currency != other.currency:\n",
    "            raise Exception(\"Currencies do not match\")\n",
    "        total_amount = self.amount + other.amount\n",
    "        return Currency(self.currency, total_amount)\n",
    "value1 = Currency(\"USD\", 20)\n",
    "value2 = Currency(\"USD\", 30)\n",
    "print(value1 + value2)"
   ]
  },
  {
   "cell_type": "code",
   "execution_count": 46,
   "metadata": {
    "ExecuteTime": {
     "end_time": "2020-01-22T01:43:10.165326Z",
     "start_time": "2020-01-22T01:43:10.119280Z"
    }
   },
   "outputs": [
    {
     "ename": "CurrenciesDoNotMatchError",
     "evalue": "USD BIRR",
     "output_type": "error",
     "traceback": [
      "\u001b[0;31m---------------------------------------------------------------------------\u001b[0m",
      "\u001b[0;31mCurrenciesDoNotMatchError\u001b[0m                 Traceback (most recent call last)",
      "\u001b[0;32m<ipython-input-46-c716d34fecef>\u001b[0m in \u001b[0;36m<module>\u001b[0;34m\u001b[0m\n\u001b[1;32m     18\u001b[0m \u001b[0mvalue1\u001b[0m \u001b[0;34m=\u001b[0m \u001b[0mCurrency\u001b[0m\u001b[0;34m(\u001b[0m\u001b[0;34m\"USD\"\u001b[0m\u001b[0;34m,\u001b[0m \u001b[0;36m20\u001b[0m\u001b[0;34m)\u001b[0m\u001b[0;34m\u001b[0m\u001b[0;34m\u001b[0m\u001b[0m\n\u001b[1;32m     19\u001b[0m \u001b[0mvalue2\u001b[0m \u001b[0;34m=\u001b[0m \u001b[0mCurrency\u001b[0m\u001b[0;34m(\u001b[0m\u001b[0;34m\"BIRR\"\u001b[0m\u001b[0;34m,\u001b[0m \u001b[0;36m30\u001b[0m\u001b[0;34m)\u001b[0m\u001b[0;34m\u001b[0m\u001b[0;34m\u001b[0m\u001b[0m\n\u001b[0;32m---> 20\u001b[0;31m \u001b[0mprint\u001b[0m\u001b[0;34m(\u001b[0m\u001b[0mvalue1\u001b[0m \u001b[0;34m+\u001b[0m \u001b[0mvalue2\u001b[0m\u001b[0;34m)\u001b[0m\u001b[0;34m\u001b[0m\u001b[0;34m\u001b[0m\u001b[0m\n\u001b[0m",
      "\u001b[0;32m<ipython-input-46-c716d34fecef>\u001b[0m in \u001b[0;36m__add__\u001b[0;34m(self, other)\u001b[0m\n\u001b[1;32m     13\u001b[0m         \u001b[0;32mif\u001b[0m \u001b[0mself\u001b[0m\u001b[0;34m.\u001b[0m\u001b[0mcurrency\u001b[0m \u001b[0;34m!=\u001b[0m \u001b[0mother\u001b[0m\u001b[0;34m.\u001b[0m\u001b[0mcurrency\u001b[0m\u001b[0;34m:\u001b[0m\u001b[0;34m\u001b[0m\u001b[0;34m\u001b[0m\u001b[0m\n\u001b[1;32m     14\u001b[0m \u001b[0;31m#             raise Exception(\"Currencies do not match\")\u001b[0m\u001b[0;34m\u001b[0m\u001b[0;34m\u001b[0m\u001b[0;34m\u001b[0m\u001b[0m\n\u001b[0;32m---> 15\u001b[0;31m             \u001b[0;32mraise\u001b[0m \u001b[0mCurrenciesDoNotMatchError\u001b[0m\u001b[0;34m(\u001b[0m\u001b[0mself\u001b[0m\u001b[0;34m.\u001b[0m\u001b[0mcurrency\u001b[0m \u001b[0;34m+\u001b[0m \u001b[0;34m\" \"\u001b[0m \u001b[0;34m+\u001b[0m \u001b[0mother\u001b[0m\u001b[0;34m.\u001b[0m\u001b[0mcurrency\u001b[0m\u001b[0;34m)\u001b[0m\u001b[0;34m\u001b[0m\u001b[0;34m\u001b[0m\u001b[0m\n\u001b[0m\u001b[1;32m     16\u001b[0m         \u001b[0mtotal_amount\u001b[0m \u001b[0;34m=\u001b[0m \u001b[0mself\u001b[0m\u001b[0;34m.\u001b[0m\u001b[0mamount\u001b[0m \u001b[0;34m+\u001b[0m \u001b[0mother\u001b[0m\u001b[0;34m.\u001b[0m\u001b[0mamount\u001b[0m\u001b[0;34m\u001b[0m\u001b[0;34m\u001b[0m\u001b[0m\n\u001b[1;32m     17\u001b[0m         \u001b[0;32mreturn\u001b[0m \u001b[0mCurrency\u001b[0m\u001b[0;34m(\u001b[0m\u001b[0mself\u001b[0m\u001b[0;34m.\u001b[0m\u001b[0mcurrency\u001b[0m\u001b[0;34m,\u001b[0m \u001b[0mtotal_amount\u001b[0m\u001b[0;34m)\u001b[0m\u001b[0;34m\u001b[0m\u001b[0;34m\u001b[0m\u001b[0m\n",
      "\u001b[0;31mCurrenciesDoNotMatchError\u001b[0m: USD BIRR"
     ]
    }
   ],
   "source": [
    "class CurrenciesDoNotMatchError(Exception):\n",
    "    def __init__(self, message):\n",
    "        super().__init__(message)\n",
    "class Currency():\n",
    "    def __init__(self, currency, amount):\n",
    "        self.currency = currency\n",
    "        self.amount = amount\n",
    "    \n",
    "    def __repr__(self):\n",
    "        return repr((self.currency, self.amount))\n",
    "    \n",
    "    def __add__(self, other):\n",
    "        if self.currency != other.currency:\n",
    "#             raise Exception(\"Currencies do not match\")\n",
    "            raise CurrenciesDoNotMatchError(self.currency + \" \" + other.currency)\n",
    "        total_amount = self.amount + other.amount\n",
    "        return Currency(self.currency, total_amount)\n",
    "value1 = Currency(\"USD\", 20)\n",
    "value2 = Currency(\"BIRR\", 30)\n",
    "print(value1 + value2)"
   ]
  },
  {
   "cell_type": "code",
   "execution_count": null,
   "metadata": {},
   "outputs": [],
   "source": []
  }
 ],
 "metadata": {
  "kernelspec": {
   "display_name": "Python 3",
   "language": "python",
   "name": "python3"
  },
  "language_info": {
   "codemirror_mode": {
    "name": "ipython",
    "version": 3
   },
   "file_extension": ".py",
   "mimetype": "text/x-python",
   "name": "python",
   "nbconvert_exporter": "python",
   "pygments_lexer": "ipython3",
   "version": "3.7.3"
  },
  "toc": {
   "base_numbering": 1,
   "nav_menu": {},
   "number_sections": true,
   "sideBar": true,
   "skip_h1_title": false,
   "title_cell": "Table of Contents",
   "title_sidebar": "Contents",
   "toc_cell": false,
   "toc_position": {},
   "toc_section_display": true,
   "toc_window_display": false
  }
 },
 "nbformat": 4,
 "nbformat_minor": 2
}
