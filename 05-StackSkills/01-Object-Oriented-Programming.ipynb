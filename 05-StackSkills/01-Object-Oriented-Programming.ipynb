{
 "cells": [
  {
   "cell_type": "markdown",
   "metadata": {},
   "source": [
    "<h2>Object Oriented Programing</h2>\n",
    "<ul>\n",
    "    <li>Thinking about Objects</li>\n",
    "    <li>Class</li>\n",
    "    <li>Object</li>\n",
    "    <li>Data (state)</li>\n",
    "    <li>Actions (behaviour)</li>\n",
    "    <li>Encapsulation</li>\n",
    "    <li>Abstraction</li>"
   ]
  },
  {
   "cell_type": "markdown",
   "metadata": {},
   "source": [
    "<h3> Object Oriented Terminology</h3>\n",
    "``` python \n",
    "\n",
    "class plant():  \n",
    "    \n",
    "    name, location, distanceFromSum //data/state/fields  \n",
    "    revolve(), rotate()  //actions/behavior/methods\n",
    "    \n",
    "    earth =    planet()\n",
    "    venus =    planet()\n",
    "```\n",
    "<ul>\n",
    "    <li>class</li>\n",
    "    <li>Objects/Instances</li>\n",
    "    <li>Member Data/State/Fields</li>\n",
    "    <li>Actions/Methods/Behaviour</li>\n",
    "</ul>"
   ]
  },
  {
   "cell_type": "code",
   "execution_count": 1,
   "metadata": {
    "ExecuteTime": {
     "end_time": "2020-01-10T03:53:29.873935Z",
     "start_time": "2020-01-10T03:53:29.869725Z"
    }
   },
   "outputs": [],
   "source": [
    "# class is a template - blue print\n",
    "class Country:\n",
    "    pass"
   ]
  },
  {
   "cell_type": "code",
   "execution_count": 2,
   "metadata": {
    "ExecuteTime": {
     "end_time": "2020-01-10T03:55:18.002069Z",
     "start_time": "2020-01-10T03:55:17.997980Z"
    }
   },
   "outputs": [],
   "source": [
    "india = Country() # object or instances\n",
    "Ethiopia = Country()\n",
    "Germany = Country()"
   ]
  },
  {
   "cell_type": "code",
   "execution_count": 3,
   "metadata": {
    "ExecuteTime": {
     "end_time": "2020-01-10T03:56:22.718854Z",
     "start_time": "2020-01-10T03:56:22.711946Z"
    }
   },
   "outputs": [],
   "source": [
    "india.name = 'India'\n",
    "india.capital = \"New Delhi\"\n",
    "Ethiopia.name = 'Ethiopia'\n",
    "Ethiopia.capital = \"Addis Ababa\""
   ]
  },
  {
   "cell_type": "code",
   "execution_count": 5,
   "metadata": {
    "ExecuteTime": {
     "end_time": "2020-01-10T03:56:45.898742Z",
     "start_time": "2020-01-10T03:56:45.890831Z"
    }
   },
   "outputs": [
    {
     "data": {
      "text/plain": [
       "'Ethiopia'"
      ]
     },
     "execution_count": 5,
     "metadata": {},
     "output_type": "execute_result"
    }
   ],
   "source": [
    "Ethiopia.name"
   ]
  },
  {
   "cell_type": "markdown",
   "metadata": {},
   "source": [
    "<h3>Min & Max from a list</h3>"
   ]
  },
  {
   "cell_type": "code",
   "execution_count": 6,
   "metadata": {
    "ExecuteTime": {
     "end_time": "2020-01-15T03:02:06.456489Z",
     "start_time": "2020-01-15T03:02:06.446655Z"
    }
   },
   "outputs": [
    {
     "name": "stdout",
     "output_type": "stream",
     "text": [
      "25\n",
      "3\n"
     ]
    }
   ],
   "source": [
    "\n",
    "lst = [9, 3, 20,5, 25]\n",
    "h = lst[0]\n",
    "l = lst[0]\n",
    "for i in lst:\n",
    "    if i > h:\n",
    "        h = i\n",
    "    if i < l:\n",
    "        l = i\n",
    "#         print(h)\n",
    "print(h)\n",
    "print(l)"
   ]
  },
  {
   "cell_type": "markdown",
   "metadata": {},
   "source": [
    "<h3>Reversing order</h3>"
   ]
  },
  {
   "cell_type": "code",
   "execution_count": 13,
   "metadata": {
    "ExecuteTime": {
     "end_time": "2020-01-15T03:07:34.039071Z",
     "start_time": "2020-01-15T03:07:34.030042Z"
    }
   },
   "outputs": [
    {
     "name": "stdout",
     "output_type": "stream",
     "text": [
      "0 one\n",
      "1 two\n",
      "2 three\n",
      "3 four\n"
     ]
    }
   ],
   "source": [
    "lst = ['one', 'two', 'three', 'four']\n",
    "rlst = []\n",
    "for i,val in enumerate(lst):\n",
    "    print(i, val)"
   ]
  },
  {
   "cell_type": "code",
   "execution_count": 65,
   "metadata": {
    "ExecuteTime": {
     "end_time": "2020-01-15T03:26:59.839737Z",
     "start_time": "2020-01-15T03:26:59.827437Z"
    }
   },
   "outputs": [
    {
     "data": {
      "text/plain": [
       "['four', 'three', 'two', 'one']"
      ]
     },
     "execution_count": 65,
     "metadata": {},
     "output_type": "execute_result"
    }
   ],
   "source": [
    "rlst = []\n",
    "for i,val in enumerate(lst):\n",
    "#     rlst = lst[::-1] # another way \n",
    "    rlst.append(lst[-(1+int(i))])\n",
    "rlst"
   ]
  },
  {
   "cell_type": "code",
   "execution_count": 63,
   "metadata": {
    "ExecuteTime": {
     "end_time": "2020-01-15T03:25:41.043928Z",
     "start_time": "2020-01-15T03:25:41.037393Z"
    }
   },
   "outputs": [
    {
     "name": "stdout",
     "output_type": "stream",
     "text": [
      "w\n",
      "we\n",
      "wet\n",
      "wets\n",
      "wets@\n",
      "wets@L\n"
     ]
    }
   ],
   "source": [
    "st = \"L@stew\"\n",
    "n = str()\n",
    "for i,val in enumerate(st):\n",
    "    n += st[-(1 + i)]\n",
    "    print(n)"
   ]
  },
  {
   "cell_type": "markdown",
   "metadata": {
    "ExecuteTime": {
     "end_time": "2020-01-15T03:23:57.825356Z",
     "start_time": "2020-01-15T03:23:57.814089Z"
    }
   },
   "source": [
    "<h3>List Compretion</h3> "
   ]
  },
  {
   "cell_type": "code",
   "execution_count": 73,
   "metadata": {
    "ExecuteTime": {
     "end_time": "2020-01-15T04:13:41.828908Z",
     "start_time": "2020-01-15T04:13:41.815188Z"
    }
   },
   "outputs": [
    {
     "data": {
      "text/plain": [
       "[6, 4, 6]"
      ]
     },
     "execution_count": 73,
     "metadata": {},
     "output_type": "execute_result"
    }
   ],
   "source": [
    "vals = [3, 6, 9, 1, 4, 15, 6, 3]\n",
    "lst_comp = [i for i in vals if i%2==0]\n",
    "lst_comp"
   ]
  },
  {
   "cell_type": "markdown",
   "metadata": {},
   "source": [
    "<h3>Febenachi Serious</h3>"
   ]
  },
  {
   "cell_type": "code",
   "execution_count": 77,
   "metadata": {
    "ExecuteTime": {
     "end_time": "2020-01-15T04:18:52.475481Z",
     "start_time": "2020-01-15T04:18:52.459086Z"
    }
   },
   "outputs": [
    {
     "name": "stdout",
     "output_type": "stream",
     "text": [
      "2\n",
      "4\n",
      "8\n"
     ]
    }
   ],
   "source": [
    "# feb = [1,2,3,5,8,13...]\n",
    "feb1 = list()\n",
    "start = 1\n",
    "for i in range(3):\n",
    "    start += start\n",
    "    print(start)\n",
    "#     feb1.append(start+1)"
   ]
  },
  {
   "cell_type": "markdown",
   "metadata": {},
   "source": [
    "<h3>Word Count</h3>"
   ]
  },
  {
   "cell_type": "code",
   "execution_count": 88,
   "metadata": {
    "ExecuteTime": {
     "end_time": "2020-01-15T04:47:10.418074Z",
     "start_time": "2020-01-15T04:47:10.411003Z"
    }
   },
   "outputs": [
    {
     "name": "stdout",
     "output_type": "stream",
     "text": [
      "{'L': 0, 'e': 1, 'a': 0, 'r': 1, 'n': 2, ' ': 4, 'P': 0, 'y': 1, 't': 1, 'h': 0, 'o': 0, '.': 0, 'I': 0, 'i': 0, 's': 0, 'v': 0, 'f': 0, 'u': 0}\n"
     ]
    }
   ],
   "source": [
    "learn_love_code = \"Learn Python. It is very fun\"\n",
    "# learn_love_code = \"Learn Love Code\"\n",
    "char_occurance = dict()\n",
    "for char in learn_love_code:\n",
    "    if char in char_occurance.keys():\n",
    "        char_occurance[char] += 1\n",
    "    else:\n",
    "        char_occurance[char] = 0\n",
    "#     char_occurance[char] = char_occurance.get(char, 0) + 1\n",
    "print(char_occurance)"
   ]
  },
  {
   "cell_type": "code",
   "execution_count": 90,
   "metadata": {
    "ExecuteTime": {
     "end_time": "2020-01-15T04:49:20.764106Z",
     "start_time": "2020-01-15T04:49:20.757209Z"
    }
   },
   "outputs": [
    {
     "name": "stdout",
     "output_type": "stream",
     "text": [
      "{'Learn': 1, 'Python.': 1, 'It': 1, 'is': 1, 'very': 1, 'fun': 1}\n"
     ]
    }
   ],
   "source": [
    "word_occurance = dict()\n",
    "for word in learn_love_code.split():\n",
    "    word_occurance[word] = word_occurance.get(word, 0) + 1\n",
    "print(word_occurance)"
   ]
  },
  {
   "cell_type": "markdown",
   "metadata": {},
   "source": [
    "<h3>List comprehensions</h3> "
   ]
  },
  {
   "cell_type": "code",
   "execution_count": 91,
   "metadata": {
    "ExecuteTime": {
     "end_time": "2020-01-15T04:57:18.741481Z",
     "start_time": "2020-01-15T04:57:18.713942Z"
    }
   },
   "outputs": [
    {
     "name": "stdout",
     "output_type": "stream",
     "text": [
      "[1, 4, 9, 16, 25, 36, 49, 64, 81, 100]\n",
      "{64, 1, 4, 36, 100, 9, 16, 49, 81, 25}\n",
      "{1: 1, 2: 4, 3: 9, 4: 16, 5: 25, 6: 36, 7: 49, 8: 64, 9: 81, 10: 100}\n"
     ]
    }
   ],
   "source": [
    "squre_fist_number_list = [ i*i for i in range(1,11) ]\n",
    "print(squre_fist_number_list)\n",
    "squre_firt_number_set = { i*i for i in range(1,11) }\n",
    "print(squre_firt_number_set)\n",
    "squre_first_number_dict = { i:i*i for i in range(1,11) }\n",
    "print(squre_first_number_dict)"
   ]
  },
  {
   "cell_type": "code",
   "execution_count": null,
   "metadata": {},
   "outputs": [],
   "source": []
  }
 ],
 "metadata": {
  "kernelspec": {
   "display_name": "Python 3",
   "language": "python",
   "name": "python3"
  },
  "language_info": {
   "codemirror_mode": {
    "name": "ipython",
    "version": 3
   },
   "file_extension": ".py",
   "mimetype": "text/x-python",
   "name": "python",
   "nbconvert_exporter": "python",
   "pygments_lexer": "ipython3",
   "version": "3.7.3"
  },
  "toc": {
   "base_numbering": 1,
   "nav_menu": {},
   "number_sections": true,
   "sideBar": true,
   "skip_h1_title": false,
   "title_cell": "Table of Contents",
   "title_sidebar": "Contents",
   "toc_cell": false,
   "toc_position": {},
   "toc_section_display": true,
   "toc_window_display": false
  }
 },
 "nbformat": 4,
 "nbformat_minor": 2
}
