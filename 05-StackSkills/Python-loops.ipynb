{
 "cells": [
  {
   "cell_type": "markdown",
   "metadata": {},
   "source": [
    "<h3>Is prime?</h3>"
   ]
  },
  {
   "cell_type": "code",
   "execution_count": 35,
   "metadata": {
    "ExecuteTime": {
     "end_time": "2020-01-27T22:54:34.065968Z",
     "start_time": "2020-01-27T22:54:34.058266Z"
    }
   },
   "outputs": [],
   "source": [
    "def is_prime(number):\n",
    "    if (number < 2):\n",
    "        return False\n",
    "    # check if number is divisible by 2 to number -1\n",
    "    for divisor in range(2, number):\n",
    "        if number % divisor == 0:\n",
    "            return f\"{number} is not a prime number\"\n",
    "    return f\"{number} is a prime number\""
   ]
  },
  {
   "cell_type": "code",
   "execution_count": 36,
   "metadata": {
    "ExecuteTime": {
     "end_time": "2020-01-27T22:54:35.260857Z",
     "start_time": "2020-01-27T22:54:35.251544Z"
    }
   },
   "outputs": [
    {
     "data": {
      "text/plain": [
       "'15 is not a prime number'"
      ]
     },
     "execution_count": 36,
     "metadata": {},
     "output_type": "execute_result"
    }
   ],
   "source": [
    "is_prime(15)"
   ]
  },
  {
   "cell_type": "markdown",
   "metadata": {},
   "source": [
    "<h3>Sum up to n</h3>"
   ]
  },
  {
   "cell_type": "code",
   "execution_count": 45,
   "metadata": {
    "ExecuteTime": {
     "end_time": "2020-01-27T22:59:54.225612Z",
     "start_time": "2020-01-27T22:59:54.219901Z"
    }
   },
   "outputs": [],
   "source": [
    "def sum_upto_n(n):\n",
    "    sum_upto = 0\n",
    "    for i in range(1, n+1):\n",
    "        sum_upto += i\n",
    "    return sum_upto\n",
    "def factorial(n):\n",
    "    fact = 1\n",
    "    for i in range(1, n+1):\n",
    "        fact *= i\n",
    "    return fact"
   ]
  },
  {
   "cell_type": "code",
   "execution_count": 48,
   "metadata": {
    "ExecuteTime": {
     "end_time": "2020-01-27T23:00:28.702447Z",
     "start_time": "2020-01-27T23:00:28.695252Z"
    }
   },
   "outputs": [
    {
     "name": "stdout",
     "output_type": "stream",
     "text": [
      "21\n",
      "720\n"
     ]
    }
   ],
   "source": [
    "print(sum_upto_n(6))\n",
    "print(factorial(6))"
   ]
  },
  {
   "cell_type": "markdown",
   "metadata": {},
   "source": [
    "<h3>Sum of divisors</h3>"
   ]
  },
  {
   "cell_type": "code",
   "execution_count": 65,
   "metadata": {
    "ExecuteTime": {
     "end_time": "2020-01-27T23:08:59.989160Z",
     "start_time": "2020-01-27T23:08:59.984255Z"
    }
   },
   "outputs": [],
   "source": [
    "def sum_of_divisors(number):\n",
    "    if (number < 2):\n",
    "        return 'zero'\n",
    "    sum_divisor = 0\n",
    "    for divisor in range(1, number + 1):\n",
    "        if number % divisor == 0:\n",
    "            sum_divisor += divisor\n",
    "    return sum_divisor\n",
    "            "
   ]
  },
  {
   "cell_type": "code",
   "execution_count": 68,
   "metadata": {
    "ExecuteTime": {
     "end_time": "2020-01-27T23:09:25.220389Z",
     "start_time": "2020-01-27T23:09:25.213030Z"
    }
   },
   "outputs": [
    {
     "data": {
      "text/plain": [
       "24"
      ]
     },
     "execution_count": 68,
     "metadata": {},
     "output_type": "execute_result"
    }
   ],
   "source": [
    "sum_of_divisors(15)"
   ]
  },
  {
   "cell_type": "markdown",
   "metadata": {},
   "source": [
    "<h3>Print a number of triangle</h3>"
   ]
  },
  {
   "cell_type": "code",
   "execution_count": 87,
   "metadata": {
    "ExecuteTime": {
     "end_time": "2020-01-27T23:18:26.837493Z",
     "start_time": "2020-01-27T23:18:26.830297Z"
    }
   },
   "outputs": [],
   "source": [
    "def print_triangle(number):\n",
    "    for i in range(1, number + 1):\n",
    "        for j in range(1, i+1):\n",
    "            print(j, end=\" \")\n",
    "        print()"
   ]
  },
  {
   "cell_type": "code",
   "execution_count": 86,
   "metadata": {
    "ExecuteTime": {
     "end_time": "2020-01-27T23:18:22.131927Z",
     "start_time": "2020-01-27T23:18:22.124307Z"
    }
   },
   "outputs": [
    {
     "name": "stdout",
     "output_type": "stream",
     "text": [
      "1 \n",
      "1 2 \n",
      "1 2 3 \n",
      "1 2 3 4 \n",
      "1 2 3 4 5 \n"
     ]
    }
   ],
   "source": [
    "print_triangle(5)"
   ]
  },
  {
   "cell_type": "markdown",
   "metadata": {},
   "source": [
    "<h3>Introduction to while loop in python</h3>"
   ]
  },
  {
   "cell_type": "code",
   "execution_count": 88,
   "metadata": {
    "ExecuteTime": {
     "end_time": "2020-01-27T23:27:51.353541Z",
     "start_time": "2020-01-27T23:27:51.346526Z"
    }
   },
   "outputs": [
    {
     "name": "stdout",
     "output_type": "stream",
     "text": [
      "0 1 2 3 4 "
     ]
    }
   ],
   "source": [
    "i = 0 \n",
    "while i < 5:\n",
    "    print(i, end=\" \")\n",
    "    i += 1"
   ]
  },
  {
   "cell_type": "code",
   "execution_count": 113,
   "metadata": {
    "ExecuteTime": {
     "end_time": "2020-01-27T23:38:39.686881Z",
     "start_time": "2020-01-27T23:38:39.681968Z"
    }
   },
   "outputs": [],
   "source": [
    "def print_squares_upto_limit(number):\n",
    "    x = 1\n",
    "    while x*x < number:\n",
    "        print(x*x, end=\" \")\n",
    "        x += 1"
   ]
  },
  {
   "cell_type": "code",
   "execution_count": 114,
   "metadata": {
    "ExecuteTime": {
     "end_time": "2020-01-27T23:38:40.739827Z",
     "start_time": "2020-01-27T23:38:40.732355Z"
    }
   },
   "outputs": [
    {
     "name": "stdout",
     "output_type": "stream",
     "text": [
      "1 4 9 16 25 "
     ]
    }
   ],
   "source": [
    "print_squares_upto_limit(30)"
   ]
  },
  {
   "cell_type": "markdown",
   "metadata": {},
   "source": [
    "<h3>Fibonacci series</h3>"
   ]
  },
  {
   "cell_type": "code",
   "execution_count": 125,
   "metadata": {
    "ExecuteTime": {
     "end_time": "2020-01-27T23:54:54.997141Z",
     "start_time": "2020-01-27T23:54:54.990142Z"
    }
   },
   "outputs": [],
   "source": [
    "def fibonacci(n):\n",
    "    i = 1\n",
    "    b = 2\n",
    "    while i < n:\n",
    "        print(i)\n",
    "        i = b \n",
    "        b += 1\n",
    "#         i += 1"
   ]
  },
  {
   "cell_type": "code",
   "execution_count": 126,
   "metadata": {
    "ExecuteTime": {
     "end_time": "2020-01-27T23:54:55.763004Z",
     "start_time": "2020-01-27T23:54:55.748994Z"
    }
   },
   "outputs": [
    {
     "name": "stdout",
     "output_type": "stream",
     "text": [
      "1\n",
      "2\n",
      "3\n",
      "4\n"
     ]
    }
   ],
   "source": [
    "fibonacci(5)"
   ]
  },
  {
   "cell_type": "markdown",
   "metadata": {},
   "source": [
    "<h3>While loop use case</h3>"
   ]
  },
  {
   "cell_type": "code",
   "execution_count": 132,
   "metadata": {
    "ExecuteTime": {
     "end_time": "2020-01-28T00:51:24.455263Z",
     "start_time": "2020-01-28T00:51:15.295138Z"
    }
   },
   "outputs": [
    {
     "name": "stdout",
     "output_type": "stream",
     "text": [
      "Enter number1: 12\n",
      "Enter number2: 8\n",
      "1-Add\n",
      "2-Substract\n",
      "3-Divide\n",
      "4-Multiply\n",
      "5-Exit\n",
      "Choose Operation: 2\n",
      "4\n",
      "Choose Operation: 3\n",
      "1.5\n",
      "Choose Operation: 4\n",
      "96\n",
      "Choose Operation: 1\n",
      "20\n",
      "Choose Operation: 5\n",
      "Thank you! Please come again\n"
     ]
    }
   ],
   "source": [
    "number1 = int(input(\"Enter number1: \"))\n",
    "number2 = int(input(\"Enter number2: \"))\n",
    "print(\"1-Add\")\n",
    "print(\"2-Substract\")\n",
    "print(\"3-Divide\")\n",
    "print(\"4-Multiply\")\n",
    "print(\"5-Exit\")\n",
    "\n",
    "choice = int(input(\"Choose Operation: \"))\n",
    "while (choice != 5):\n",
    "    if choice == 1:\n",
    "        result =number1 + number2\n",
    "    elif choice == 2:\n",
    "        result = number1 - number2\n",
    "    elif choice == 3:\n",
    "        result = number1 / number2\n",
    "    elif choice == 4:\n",
    "        result = number1 * number2\n",
    "    else:\n",
    "        result = \"Invalid Choice\"\n",
    "    print(result)\n",
    "    \n",
    "    choice = int(input(\"Choose Operation: \"))\n",
    "\n",
    "print(\"Thank you! Please come again\")"
   ]
  },
  {
   "cell_type": "markdown",
   "metadata": {},
   "source": [
    "<h3>Break and continue</h3>"
   ]
  },
  {
   "cell_type": "code",
   "execution_count": 135,
   "metadata": {
    "ExecuteTime": {
     "end_time": "2020-01-28T00:59:39.548464Z",
     "start_time": "2020-01-28T00:59:39.543732Z"
    }
   },
   "outputs": [],
   "source": [
    "for i in range(1,11,-1):\n",
    "    print(i, end=\" \")"
   ]
  },
  {
   "cell_type": "code",
   "execution_count": 136,
   "metadata": {
    "ExecuteTime": {
     "end_time": "2020-01-28T01:00:24.667731Z",
     "start_time": "2020-01-28T01:00:24.658753Z"
    }
   },
   "outputs": [
    {
     "name": "stdout",
     "output_type": "stream",
     "text": [
      "11 10 9 8 7 6 5 4 3 2 1 "
     ]
    }
   ],
   "source": [
    "for i in range(11, 0, -1):\n",
    "    print(i, end=\" \")"
   ]
  },
  {
   "cell_type": "code",
   "execution_count": 139,
   "metadata": {
    "ExecuteTime": {
     "end_time": "2020-01-28T01:04:34.642545Z",
     "start_time": "2020-01-28T01:04:34.632509Z"
    }
   },
   "outputs": [
    {
     "name": "stdout",
     "output_type": "stream",
     "text": [
      "1 2 3 4 Done\n"
     ]
    }
   ],
   "source": [
    "for i in range(1,11):\n",
    "    if i == 5:\n",
    "        break\n",
    "    print(i, end=\" \")\n",
    "print(\"Done\")"
   ]
  },
  {
   "cell_type": "code",
   "execution_count": 140,
   "metadata": {
    "ExecuteTime": {
     "end_time": "2020-01-28T01:04:46.255124Z",
     "start_time": "2020-01-28T01:04:46.246705Z"
    }
   },
   "outputs": [
    {
     "name": "stdout",
     "output_type": "stream",
     "text": [
      "1 2 3 4 6 7 8 9 10 Done\n"
     ]
    }
   ],
   "source": [
    "for i in range(1,11):\n",
    "    if i == 5:\n",
    "        continue\n",
    "    print(i, end=\" \")\n",
    "print(\"Done\")"
   ]
  },
  {
   "cell_type": "code",
   "execution_count": 158,
   "metadata": {
    "ExecuteTime": {
     "end_time": "2020-01-28T01:23:20.612120Z",
     "start_time": "2020-01-28T01:23:20.605805Z"
    }
   },
   "outputs": [],
   "source": [
    "def is_prime(number):\n",
    "    \n",
    "    for i in range(2, number):\n",
    "        if 7%i == 0:\n",
    "            return f\"{number} is not a prime number\"\n",
    "        else:\n",
    "            return f\"{number} is a prime number\"\n",
    "    print(result)"
   ]
  },
  {
   "cell_type": "code",
   "execution_count": 159,
   "metadata": {
    "ExecuteTime": {
     "end_time": "2020-01-28T01:23:21.251599Z",
     "start_time": "2020-01-28T01:23:21.242361Z"
    }
   },
   "outputs": [
    {
     "data": {
      "text/plain": [
       "'8 is a prime number'"
      ]
     },
     "execution_count": 159,
     "metadata": {},
     "output_type": "execute_result"
    }
   ],
   "source": [
    "is_prime(8)"
   ]
  },
  {
   "cell_type": "code",
   "execution_count": null,
   "metadata": {},
   "outputs": [],
   "source": []
  }
 ],
 "metadata": {
  "kernelspec": {
   "display_name": "Python 3",
   "language": "python",
   "name": "python3"
  },
  "language_info": {
   "codemirror_mode": {
    "name": "ipython",
    "version": 3
   },
   "file_extension": ".py",
   "mimetype": "text/x-python",
   "name": "python",
   "nbconvert_exporter": "python",
   "pygments_lexer": "ipython3",
   "version": "3.7.3"
  },
  "toc": {
   "base_numbering": 1,
   "nav_menu": {},
   "number_sections": true,
   "sideBar": true,
   "skip_h1_title": false,
   "title_cell": "Table of Contents",
   "title_sidebar": "Contents",
   "toc_cell": false,
   "toc_position": {},
   "toc_section_display": true,
   "toc_window_display": false
  }
 },
 "nbformat": 4,
 "nbformat_minor": 2
}
