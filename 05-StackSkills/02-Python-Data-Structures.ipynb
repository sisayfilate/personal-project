{
 "cells": [
  {
   "cell_type": "markdown",
   "metadata": {},
   "source": [
    "<h2>Python Data Structures</h2."
   ]
  },
  {
   "cell_type": "code",
   "execution_count": 42,
   "metadata": {
    "ExecuteTime": {
     "end_time": "2020-01-19T15:17:11.604928Z",
     "start_time": "2020-01-19T15:17:11.584830Z"
    }
   },
   "outputs": [
    {
     "name": "stdout",
     "output_type": "stream",
     "text": [
      "179\n",
      "59.666666666666664\n",
      "45\n",
      "80\n",
      "[45, 54, 80, 76]\n",
      "[45, 54, 80, 48, 76]\n",
      "[45, 54, 48, 76]\n",
      "3\n"
     ]
    },
    {
     "data": {
      "text/plain": [
       "True"
      ]
     },
     "execution_count": 42,
     "metadata": {},
     "output_type": "execute_result"
    }
   ],
   "source": [
    "marks = [45, 54, 80]\n",
    "print(sum(marks))\n",
    "print(sum(marks)/len(marks))\n",
    "print(min(marks))\n",
    "print(max(marks))\n",
    "marks.append(76)\n",
    "print(marks)\n",
    "marks.insert(3,48)\n",
    "print(marks)\n",
    "marks.remove(80)\n",
    "print(marks)\n",
    "\n",
    "print(marks.index(76))\n",
    "54 in marks"
   ]
  },
  {
   "cell_type": "code",
   "execution_count": 74,
   "metadata": {
    "ExecuteTime": {
     "end_time": "2020-01-19T15:38:46.649513Z",
     "start_time": "2020-01-19T15:38:46.621590Z"
    }
   },
   "outputs": [],
   "source": [
    "class Student(object):\n",
    "    def __init__(self, name, marks):\n",
    "        self.name = name \n",
    "        self.marks = marks\n",
    "    def get_number_of_marks(self):\n",
    "        return len(self.marks)\n",
    "    def get_total_sum_of_marks(self):\n",
    "        return sum(self.marks)\n",
    "    def maximum_mark(self):\n",
    "        return max(marks)\n",
    "    def minimum_mark(self):\n",
    "        return min(marks)\n",
    "    def average_mark(self):\n",
    "        return self.get_total_sum_of_marks()/self.get_number_of_marks()\n",
    "    def add_new_mark(self, new_mark):\n",
    "        return self.marks.append(new_mark)\n",
    "    def remove_mark_at_index(self, index):\n",
    "        del self.marks[index]"
   ]
  },
  {
   "cell_type": "code",
   "execution_count": 76,
   "metadata": {
    "ExecuteTime": {
     "end_time": "2020-01-19T15:43:24.333483Z",
     "start_time": "2020-01-19T15:43:24.321929Z"
    }
   },
   "outputs": [
    {
     "name": "stdout",
     "output_type": "stream",
     "text": [
      "Ranga\n",
      "[23, 45, 56, 75]\n",
      "Student [number of marks - 4]\n",
      "        Sum of marks - 199\n",
      "        Min of marks - 76\n",
      "        Max of marks - 45\n",
      "        Avg of marks - 49.75\n",
      "\n",
      "[23, 45, 56, 75, 67]\n"
     ]
    }
   ],
   "source": [
    "student = Student('Ranga', [23, 45, 56, 75])\n",
    "print(student.name)\n",
    "print(student.marks)\n",
    "number = student.get_number_of_marks()\n",
    "print(f\"\"\"Student [number of marks - {number}]\n",
    "        Sum of marks - {student.get_total_sum_of_marks()}\n",
    "        Min of marks - {student.maximum_mark()}\n",
    "        Max of marks - {student.minimum_mark()}\n",
    "        Avg of marks - {student.average_mark()}\n",
    "\"\"\")\n",
    "student.add_new_mark(67)\n",
    "print(student.marks)"
   ]
  },
  {
   "cell_type": "markdown",
   "metadata": {},
   "source": [
    "<h3>Extend and Append</h3>"
   ]
  },
  {
   "cell_type": "code",
   "execution_count": 81,
   "metadata": {
    "ExecuteTime": {
     "end_time": "2020-01-19T15:56:06.217384Z",
     "start_time": "2020-01-19T15:56:06.204774Z"
    }
   },
   "outputs": [
    {
     "name": "stdout",
     "output_type": "stream",
     "text": [
      "['Dog']\n",
      "['Dog', 'D', 'o', 'g']\n",
      "['Dog', 'D', 'o', 'g', 'Horse']\n",
      "['Dog', 'D', 'o', 'g', 'Horse', 'Giraffe', 'Jackal']\n"
     ]
    }
   ],
   "source": [
    "animals = ['Cat', 'Dog', 'Fish']\n",
    "animals.remove('Cat') # to remove 'cat from the list'\n",
    "del animals[1]\n",
    "print(animals) # should return 'Dog'\n",
    "animals.extend(\"Dog\")\n",
    "print(animals)\n",
    "animals.extend(['Horse'])\n",
    "print(animals)\n",
    "animals = animals + ['Giraffe', 'Jackal']\n",
    "# animals += ['Giraffe', 'Jackal']\n",
    "print(animals)"
   ]
  },
  {
   "cell_type": "markdown",
   "metadata": {},
   "source": [
    "<h3>List Slicing</h3>"
   ]
  },
  {
   "cell_type": "code",
   "execution_count": 88,
   "metadata": {
    "ExecuteTime": {
     "end_time": "2020-01-19T16:03:57.994297Z",
     "start_time": "2020-01-19T16:03:57.985699Z"
    }
   },
   "outputs": [
    {
     "name": "stdout",
     "output_type": "stream",
     "text": [
      "10\n",
      "['One', 'Three', 'Five', 'Seven']\n",
      "['Zero', 'Three', 'Six', 'Nine']\n",
      "['Nine', 'Six', 'Three', 'Zero']\n",
      "['Zero', 'One', 'Two', 3, 4, 5, 6, 'Seven', 'Eight', 'Nine']\n"
     ]
    }
   ],
   "source": [
    "numbers = ['Zero', 'One', 'Two', 'Three', 'Four', 'Five', 'Six', 'Seven', 'Eight', 'Nine']\n",
    "print(len(numbers))\n",
    "print(numbers[1:8:2])\n",
    "print(numbers[::3])\n",
    "print(numbers[::-3])\n",
    "numbers[3:7] = [3,4,5,6]\n",
    "print(numbers)"
   ]
  },
  {
   "cell_type": "markdown",
   "metadata": {},
   "source": [
    "<h3>List sorting, looping and reversing</h3>"
   ]
  },
  {
   "cell_type": "code",
   "execution_count": 97,
   "metadata": {
    "ExecuteTime": {
     "end_time": "2020-01-19T16:07:58.676798Z",
     "start_time": "2020-01-19T16:07:58.667574Z"
    }
   },
   "outputs": [
    {
     "name": "stdout",
     "output_type": "stream",
     "text": [
      "Nine\n",
      "Eight\n",
      "Seven\n",
      "Six\n",
      "Five\n",
      "Four\n",
      "Three\n",
      "Two\n",
      "One\n",
      "Zero\n"
     ]
    }
   ],
   "source": [
    "numbers = ['Zero', 'One', 'Two', 'Three', 'Four', 'Five', 'Six', 'Seven', 'Eight', 'Nine']\n",
    "# numbers.reverse() # inplace reverse the list\n",
    "rev = reversed(numbers)\n",
    "for i in rev:\n",
    "    print(i)"
   ]
  },
  {
   "cell_type": "code",
   "execution_count": 101,
   "metadata": {
    "ExecuteTime": {
     "end_time": "2020-01-19T16:10:55.324287Z",
     "start_time": "2020-01-19T16:10:55.316683Z"
    }
   },
   "outputs": [
    {
     "name": "stdout",
     "output_type": "stream",
     "text": [
      "Three\n",
      "Seven\n",
      "Eight\n",
      "Zero\n",
      "Four\n",
      "Five\n",
      "Nine\n",
      "One\n",
      "Two\n",
      "Six\n"
     ]
    }
   ],
   "source": [
    "for element in sorted(numbers, key=len, reverse=True):\n",
    "    print(element)"
   ]
  },
  {
   "cell_type": "markdown",
   "metadata": {},
   "source": [
    "<h3>List as a stack and queue</h3>"
   ]
  },
  {
   "cell_type": "code",
   "execution_count": 103,
   "metadata": {
    "ExecuteTime": {
     "end_time": "2020-01-19T18:49:33.335690Z",
     "start_time": "2020-01-19T18:49:33.328673Z"
    }
   },
   "outputs": [
    {
     "name": "stdout",
     "output_type": "stream",
     "text": [
      "[1, 2, 3]\n",
      "[2, 3]\n"
     ]
    }
   ],
   "source": [
    "# LIFO Last In first out ==> stack\n",
    "# FIFO First in first out ==> queue \n",
    "nums = [1, 2, 3, 4]\n",
    "nums.pop()\n",
    "print(nums)\n",
    "nums.pop(0)\n",
    "print(nums) # this should return [2,3]"
   ]
  },
  {
   "cell_type": "markdown",
   "metadata": {},
   "source": [
    "<h3>List with a custom class</h3> "
   ]
  },
  {
   "cell_type": "code",
   "execution_count": 121,
   "metadata": {
    "ExecuteTime": {
     "end_time": "2020-01-19T19:03:01.893420Z",
     "start_time": "2020-01-19T19:03:01.885477Z"
    }
   },
   "outputs": [],
   "source": [
    "from operator import attrgetter\n",
    "class Country(object):\n",
    "    def __init__(self, name, population, area): # consturctor \n",
    "        self.name = name \n",
    "        self.population = population\n",
    "        self.area = area\n",
    "    def __repr__(self):\n",
    "        return repr((self.name, self.population, self.area))"
   ]
  },
  {
   "cell_type": "code",
   "execution_count": 122,
   "metadata": {
    "ExecuteTime": {
     "end_time": "2020-01-19T19:03:02.441447Z",
     "start_time": "2020-01-19T19:03:02.435836Z"
    }
   },
   "outputs": [],
   "source": [
    "countries = [Country('India', 1200, 100),\n",
    "             Country('China', 1400, 200),\n",
    "             Country('USA', 300, 400)]"
   ]
  },
  {
   "cell_type": "code",
   "execution_count": 123,
   "metadata": {
    "ExecuteTime": {
     "end_time": "2020-01-19T19:03:02.932180Z",
     "start_time": "2020-01-19T19:03:02.923700Z"
    }
   },
   "outputs": [
    {
     "name": "stdout",
     "output_type": "stream",
     "text": [
      "[('India', 1200, 100), ('China', 1400, 200), ('USA', 300, 400)]\n",
      "[('India', 1200, 100), ('China', 1400, 200), ('USA', 300, 400), ('Russia', 80, 900)]\n"
     ]
    }
   ],
   "source": [
    "print(countries) # we don't see the reprsenation\n",
    "countries.append(Country('Russia', 80, 900))\n",
    "print(countries)"
   ]
  },
  {
   "cell_type": "markdown",
   "metadata": {},
   "source": [
    "<h3>List with a custom class - sorting, max and min </h3>"
   ]
  },
  {
   "cell_type": "code",
   "execution_count": 124,
   "metadata": {
    "ExecuteTime": {
     "end_time": "2020-01-19T19:03:07.429455Z",
     "start_time": "2020-01-19T19:03:07.419382Z"
    }
   },
   "outputs": [
    {
     "data": {
      "text/plain": [
       "[('USA', 300, 400),\n",
       " ('Russia', 80, 900),\n",
       " ('India', 1200, 100),\n",
       " ('China', 1400, 200)]"
      ]
     },
     "execution_count": 124,
     "metadata": {},
     "output_type": "execute_result"
    }
   ],
   "source": [
    "countries.sort(key=attrgetter('name'), reverse=True)\n",
    "countries"
   ]
  },
  {
   "cell_type": "code",
   "execution_count": 125,
   "metadata": {
    "ExecuteTime": {
     "end_time": "2020-01-19T19:06:12.877324Z",
     "start_time": "2020-01-19T19:06:12.867862Z"
    }
   },
   "outputs": [
    {
     "name": "stdout",
     "output_type": "stream",
     "text": [
      "Country with maximum population ('China', 1400, 200)\n",
      "Country with minimum area ('India', 1200, 100)\n"
     ]
    }
   ],
   "source": [
    "print(f\"Country with maximum population {max(countries, key=attrgetter('population'))}\")\n",
    "print(f\"Country with minimum area {min(countries, key=attrgetter('area'))}\")"
   ]
  },
  {
   "cell_type": "markdown",
   "metadata": {},
   "source": [
    "<h3>List comprehension</h3>"
   ]
  },
  {
   "cell_type": "code",
   "execution_count": 128,
   "metadata": {
    "ExecuteTime": {
     "end_time": "2020-01-19T19:15:53.636949Z",
     "start_time": "2020-01-19T19:15:53.628776Z"
    }
   },
   "outputs": [
    {
     "name": "stdout",
     "output_type": "stream",
     "text": [
      "['Three', 'Seven', 'Eight']\n",
      "['ZERO', 'ONE', 'TWO', 'THREE', 'FOUR', 'FIVE', 'SIX', 'SEVEN', 'EIGHT', 'NINE']\n",
      "['Zero', 'One', 'Two', 'Three', 'Four', 'Five', 'Six', 'Seven', 'Eight', 'Nine']\n"
     ]
    }
   ],
   "source": [
    "numbers = ['Zero', 'One', 'Two', 'Three', 'Four', 'Five', 'Six', 'Seven', 'Eight', 'Nine']\n",
    "numbers_length_four = [ nums for nums in numbers if len(nums)>4 ]\n",
    "print(numbers_length_four)\n",
    "upper_case = [ nums.upper() for nums in numbers ]\n",
    "print(upper_case)\n",
    "capitalize_nums = [ nums.capitalize() for nums in numbers ]\n",
    "print(capitalize_nums)"
   ]
  },
  {
   "cell_type": "markdown",
   "metadata": {},
   "source": [
    "#### reversing the  list"
   ]
  },
  {
   "cell_type": "code",
   "execution_count": 147,
   "metadata": {
    "ExecuteTime": {
     "end_time": "2020-01-19T19:29:08.960245Z",
     "start_time": "2020-01-19T19:29:08.952819Z"
    }
   },
   "outputs": [
    {
     "name": "stdout",
     "output_type": "stream",
     "text": [
      "['Nine', 'Eight', 'Seven', 'Six', 'Five', 'Four', 'Three', 'Two', 'One', 'Zero']\n"
     ]
    }
   ],
   "source": [
    "rev = numbers[::-1]\n",
    "# for i,val in enumerate(numbers):\n",
    "#     rev.append(numbers[-(i+1)])\n",
    "    \n",
    "print(rev)"
   ]
  },
  {
   "cell_type": "markdown",
   "metadata": {},
   "source": [
    "#### reversing a string"
   ]
  },
  {
   "cell_type": "code",
   "execution_count": 150,
   "metadata": {
    "ExecuteTime": {
     "end_time": "2020-01-19T19:31:48.901272Z",
     "start_time": "2020-01-19T19:31:48.892486Z"
    }
   },
   "outputs": [
    {
     "data": {
      "text/plain": [
       "'olleH'"
      ]
     },
     "execution_count": 150,
     "metadata": {},
     "output_type": "execute_result"
    }
   ],
   "source": [
    "word = 'Hello'\n",
    "word_rev = str()\n",
    "for i,val in enumerate(word):\n",
    "    word_rev += word[-(i+1)]\n",
    "word_rev"
   ]
  },
  {
   "cell_type": "code",
   "execution_count": 153,
   "metadata": {
    "ExecuteTime": {
     "end_time": "2020-01-19T19:33:30.478163Z",
     "start_time": "2020-01-19T19:33:30.471293Z"
    }
   },
   "outputs": [
    {
     "name": "stdout",
     "output_type": "stream",
     "text": [
      "olleH\n"
     ]
    }
   ],
   "source": [
    "rev_word = str()\n",
    "for i in reversed(word):\n",
    "    rev_word += i\n",
    "print(rev_word)"
   ]
  },
  {
   "cell_type": "code",
   "execution_count": 129,
   "metadata": {
    "ExecuteTime": {
     "end_time": "2020-01-19T19:17:31.762253Z",
     "start_time": "2020-01-19T19:17:31.752553Z"
    }
   },
   "outputs": [
    {
     "data": {
      "text/plain": [
       "[6, 4, 6]"
      ]
     },
     "execution_count": 129,
     "metadata": {},
     "output_type": "execute_result"
    }
   ],
   "source": [
    "values = [3, 6, 9, 1, 4, 15, 6, 3]\n",
    "even_values = [ value for value in values if value%2==0]\n",
    "even_values"
   ]
  },
  {
   "cell_type": "markdown",
   "metadata": {
    "ExecuteTime": {
     "end_time": "2020-01-19T19:18:09.129594Z",
     "start_time": "2020-01-19T19:18:09.121102Z"
    }
   },
   "source": [
    "<h3>Introduction to set</h3>"
   ]
  },
  {
   "cell_type": "code",
   "execution_count": 167,
   "metadata": {
    "ExecuteTime": {
     "end_time": "2020-01-19T19:57:26.301345Z",
     "start_time": "2020-01-19T19:57:26.293960Z"
    }
   },
   "outputs": [
    {
     "name": "stdout",
     "output_type": "stream",
     "text": [
      "Intersection {4, 5}\n",
      "Unioun {1, 2, 3, 4, 5, 6, 7, 8, 9, 10}\n",
      "Difference {4, 5}\n"
     ]
    }
   ],
   "source": [
    "numbers_1_to_5 = set(range(1,6))\n",
    "numbers_4_to_10 = set(range(4,11))\n",
    "print(f'Intersection {numbers_1_to_5 & numbers_4_to_10}') # numbers_1_to_5.intersection(numbers_4_to_10)\n",
    "print(f'Unioun {numbers_1_to_5 | numbers_4_to_10}') # numbers_1_to_5.union(numbers_4_to_10)\n",
    "print(f'Difference {numbers_1_to_5 & numbers_4_to_10}') # numbers_1_to_5.difference(numbers_4_to_10)"
   ]
  },
  {
   "cell_type": "markdown",
   "metadata": {
    "ExecuteTime": {
     "end_time": "2020-01-19T19:57:16.862000Z",
     "start_time": "2020-01-19T19:57:16.853387Z"
    }
   },
   "source": [
    "<h3>Introduction to Dictionary</h3>"
   ]
  },
  {
   "cell_type": "code",
   "execution_count": 182,
   "metadata": {
    "ExecuteTime": {
     "end_time": "2020-01-19T20:12:36.290961Z",
     "start_time": "2020-01-19T20:12:36.274776Z"
    }
   },
   "outputs": [
    {
     "name": "stdout",
     "output_type": "stream",
     "text": [
      "10\n",
      "this value doesn't exist\n"
     ]
    },
    {
     "data": {
      "text/plain": [
       "{'a': 5, 'c': 4, 'b': 3, 'd': 10}"
      ]
     },
     "execution_count": 182,
     "metadata": {},
     "output_type": "execute_result"
    }
   ],
   "source": [
    "occurances = dict(a=5, c=4, b=3)\n",
    "occurances['d'] = 10\n",
    "print(occurances.get('d'))\n",
    "print(occurances.get('e', \"this value doesn't exist\"))\n",
    "occurances"
   ]
  },
  {
   "cell_type": "code",
   "execution_count": 187,
   "metadata": {
    "ExecuteTime": {
     "end_time": "2020-01-19T20:14:28.641897Z",
     "start_time": "2020-01-19T20:14:28.631995Z"
    }
   },
   "outputs": [
    {
     "name": "stdout",
     "output_type": "stream",
     "text": [
      "dict_keys(['a', 'c', 'b', 'd'])\n",
      "dict_values([5, 4, 3, 10])\n",
      "dict_items([('a', 5), ('c', 4), ('b', 3), ('d', 10)])\n",
      "a 5\n",
      "c 4\n",
      "b 3\n",
      "d 10\n"
     ]
    }
   ],
   "source": [
    "print(occurances.keys())\n",
    "print(occurances.values())\n",
    "print(occurances.items())\n",
    "for key, value in occurances.items():\n",
    "    print(f\"{key} {value}\")"
   ]
  },
  {
   "cell_type": "markdown",
   "metadata": {},
   "source": [
    "<h3>Word and Character Occurances</h3>"
   ]
  },
  {
   "cell_type": "code",
   "execution_count": 193,
   "metadata": {
    "ExecuteTime": {
     "end_time": "2020-01-20T02:40:34.580489Z",
     "start_time": "2020-01-20T02:40:34.571233Z"
    }
   },
   "outputs": [
    {
     "name": "stdout",
     "output_type": "stream",
     "text": [
      "{'This': 2, 'is': 1, 'an': 1, 'awesome': 1, 'occasion!': 1, 'has': 1, 'never': 1, 'happend': 1, 'before.': 1}\n"
     ]
    }
   ],
   "source": [
    "string = \"This is an awesome occasion! This has never happend before.\"\n",
    "word_occurances = dict()\n",
    "for word in string.split():\n",
    "    word_occurances[word] = word_occurances.get(word, 0) + 1\n",
    "print(word_occurances)"
   ]
  },
  {
   "cell_type": "code",
   "execution_count": 195,
   "metadata": {
    "ExecuteTime": {
     "end_time": "2020-01-20T02:42:52.871632Z",
     "start_time": "2020-01-20T02:42:51.835599Z"
    }
   },
   "outputs": [],
   "source": [
    "import numpy"
   ]
  },
  {
   "cell_type": "code",
   "execution_count": 198,
   "metadata": {
    "ExecuteTime": {
     "end_time": "2020-01-20T02:46:23.373764Z",
     "start_time": "2020-01-20T02:46:23.361901Z"
    }
   },
   "outputs": [
    {
     "name": "stdout",
     "output_type": "stream",
     "text": [
      "[1, 4, 9, 16, 25, 36, 49, 64, 81, 100]\n",
      "{64, 1, 4, 36, 100, 9, 16, 49, 81, 25}\n",
      "{1: 1, 2: 4, 3: 9, 4: 16, 5: 25, 6: 36, 7: 49, 8: 64, 9: 81, 10: 100}\n"
     ]
    }
   ],
   "source": [
    "squares_first_ten_number = [ i*i for i in range(1,11)]\n",
    "print(squares_first_ten_number)\n",
    "squares_first_ten_number_set = { i*i for i in range(1,11) }\n",
    "print(squares_first_ten_number_set)\n",
    "squares_first_ten_number_dict = { i:i*i for i in range(1,11) }\n",
    "print(squares_first_ten_number_dict)"
   ]
  },
  {
   "cell_type": "code",
   "execution_count": 2,
   "metadata": {
    "ExecuteTime": {
     "end_time": "2020-01-27T05:02:10.433531Z",
     "start_time": "2020-01-27T05:02:10.418708Z"
    }
   },
   "outputs": [
    {
     "data": {
      "text/plain": [
       "{}"
      ]
     },
     "execution_count": 2,
     "metadata": {},
     "output_type": "execute_result"
    }
   ],
   "source": [
    "lst = [1,1,2,3,5,5,1,3,6]\n",
    "# lst_comp = [ i for i in lst if lst.count() >2 ]\n",
    "# lst_comp\n",
    "diction = dict()\n",
    "diction"
   ]
  },
  {
   "cell_type": "code",
   "execution_count": 23,
   "metadata": {
    "ExecuteTime": {
     "end_time": "2020-01-19T15:08:12.602819Z",
     "start_time": "2020-01-19T15:08:12.575731Z"
    }
   },
   "outputs": [
    {
     "ename": "TypeError",
     "evalue": "'type' object is not iterable",
     "output_type": "error",
     "traceback": [
      "\u001b[0;31m---------------------------------------------------------------------------\u001b[0m",
      "\u001b[0;31mTypeError\u001b[0m                                 Traceback (most recent call last)",
      "\u001b[0;32m<ipython-input-23-3b2d5b2b7da9>\u001b[0m in \u001b[0;36m<module>\u001b[0;34m\u001b[0m\n\u001b[0;32m----> 1\u001b[0;31m \u001b[0;32mfor\u001b[0m \u001b[0mi\u001b[0m \u001b[0;32min\u001b[0m \u001b[0mlist\u001b[0m\u001b[0;34m:\u001b[0m\u001b[0;34m\u001b[0m\u001b[0;34m\u001b[0m\u001b[0m\n\u001b[0m\u001b[1;32m      2\u001b[0m     \u001b[0mlst\u001b[0m\u001b[0;34m.\u001b[0m\u001b[0mcount\u001b[0m\u001b[0;34m(\u001b[0m\u001b[0mi\u001b[0m\u001b[0;34m)\u001b[0m\u001b[0;34m\u001b[0m\u001b[0;34m\u001b[0m\u001b[0m\n",
      "\u001b[0;31mTypeError\u001b[0m: 'type' object is not iterable"
     ]
    }
   ],
   "source": [
    "for i in list:\n",
    "    lst.count(i)"
   ]
  },
  {
   "cell_type": "code",
   "execution_count": 3,
   "metadata": {
    "ExecuteTime": {
     "end_time": "2020-01-27T05:02:18.133154Z",
     "start_time": "2020-01-27T05:02:18.122195Z"
    }
   },
   "outputs": [],
   "source": [
    "di = dict()\n",
    "for num in lst:\n",
    "    if num in di.keys():\n",
    "        di[num] = di.get(num,0) + 1"
   ]
  },
  {
   "cell_type": "code",
   "execution_count": 5,
   "metadata": {
    "ExecuteTime": {
     "end_time": "2020-01-27T05:02:31.352478Z",
     "start_time": "2020-01-27T05:02:31.345309Z"
    }
   },
   "outputs": [
    {
     "data": {
      "text/plain": [
       "{}"
      ]
     },
     "execution_count": 5,
     "metadata": {},
     "output_type": "execute_result"
    }
   ],
   "source": [
    "for num in lst:\n",
    "    if num in di.keys():\n",
    "        di[num] = di.get(num, 0) + 1 \n",
    "#     print(num)\n",
    "di"
   ]
  },
  {
   "cell_type": "markdown",
   "metadata": {
    "ExecuteTime": {
     "end_time": "2020-01-27T05:07:21.987404Z",
     "start_time": "2020-01-27T05:07:21.981002Z"
    }
   },
   "source": [
    "<font color='darkblue'>finding duplicate</font>"
   ]
  },
  {
   "cell_type": "code",
   "execution_count": 12,
   "metadata": {
    "ExecuteTime": {
     "end_time": "2020-01-27T05:08:28.507459Z",
     "start_time": "2020-01-27T05:08:28.499111Z"
    }
   },
   "outputs": [
    {
     "name": "stdout",
     "output_type": "stream",
     "text": [
      "{1: 3, 2: 1, 3: 2, 5: 2, 6: 1}\n"
     ]
    }
   ],
   "source": [
    "learn_love_code = [1,1,2,3,5,5,1,3,6]\n",
    "char_occurance = dict()\n",
    "for char in learn_love_code:\n",
    "    if char in char_occurance.keys():\n",
    "        char_occurance[char] += 1\n",
    "    else:\n",
    "        char_occurance[char] = 1\n",
    "#     char_occurance[char] = char_occurance.get(char, 0) + 1\n",
    "print(char_occurance)"
   ]
  },
  {
   "cell_type": "code",
   "execution_count": null,
   "metadata": {},
   "outputs": [],
   "source": []
  }
 ],
 "metadata": {
  "kernelspec": {
   "display_name": "Python 3",
   "language": "python",
   "name": "python3"
  },
  "language_info": {
   "codemirror_mode": {
    "name": "ipython",
    "version": 3
   },
   "file_extension": ".py",
   "mimetype": "text/x-python",
   "name": "python",
   "nbconvert_exporter": "python",
   "pygments_lexer": "ipython3",
   "version": "3.7.3"
  },
  "toc": {
   "base_numbering": 1,
   "nav_menu": {},
   "number_sections": true,
   "sideBar": true,
   "skip_h1_title": false,
   "title_cell": "Table of Contents",
   "title_sidebar": "Contents",
   "toc_cell": false,
   "toc_position": {},
   "toc_section_display": true,
   "toc_window_display": false
  }
 },
 "nbformat": 4,
 "nbformat_minor": 2
}
