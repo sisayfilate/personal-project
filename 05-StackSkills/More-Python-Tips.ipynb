{
 "cells": [
  {
   "cell_type": "code",
   "execution_count": 7,
   "metadata": {
    "ExecuteTime": {
     "end_time": "2020-01-22T01:48:10.302270Z",
     "start_time": "2020-01-22T01:48:10.290594Z"
    }
   },
   "outputs": [
    {
     "name": "stdout",
     "output_type": "stream",
     "text": [
      "1.0 3\n"
     ]
    }
   ],
   "source": [
    "import numpy as np\n",
    "print(np.round(4.5 - 3.2),3)"
   ]
  },
  {
   "cell_type": "code",
   "execution_count": 13,
   "metadata": {
    "ExecuteTime": {
     "end_time": "2020-01-22T01:50:11.192050Z",
     "start_time": "2020-01-22T01:50:11.175621Z"
    }
   },
   "outputs": [
    {
     "data": {
      "text/plain": [
       "Decimal('1.3')"
      ]
     },
     "execution_count": 13,
     "metadata": {},
     "output_type": "execute_result"
    }
   ],
   "source": [
    "from decimal import Decimal\n",
    "Decimal('4.5') - Decimal('3.2')"
   ]
  },
  {
   "cell_type": "code",
   "execution_count": 15,
   "metadata": {
    "ExecuteTime": {
     "end_time": "2020-01-22T01:52:27.212940Z",
     "start_time": "2020-01-22T01:52:27.208523Z"
    }
   },
   "outputs": [],
   "source": [
    "import math"
   ]
  },
  {
   "cell_type": "code",
   "execution_count": 22,
   "metadata": {
    "ExecuteTime": {
     "end_time": "2020-01-22T01:54:19.678547Z",
     "start_time": "2020-01-22T01:54:19.659395Z"
    }
   },
   "outputs": [
    {
     "name": "stdout",
     "output_type": "stream",
     "text": [
      "Help on built-in function factorial in module math:\n",
      "\n",
      "factorial(x, /)\n",
      "    Find x!.\n",
      "    \n",
      "    Raise a ValueError if x is negative or non-integral.\n",
      "\n"
     ]
    }
   ],
   "source": [
    "help(math.factorial)"
   ]
  },
  {
   "cell_type": "markdown",
   "metadata": {},
   "source": [
    "<h3>Statistics Module -- find mean and median</h3>"
   ]
  },
  {
   "cell_type": "code",
   "execution_count": 23,
   "metadata": {
    "ExecuteTime": {
     "end_time": "2020-01-22T01:59:16.758707Z",
     "start_time": "2020-01-22T01:59:16.744505Z"
    }
   },
   "outputs": [],
   "source": [
    "import statistics"
   ]
  },
  {
   "cell_type": "code",
   "execution_count": 34,
   "metadata": {
    "ExecuteTime": {
     "end_time": "2020-01-22T02:03:33.566320Z",
     "start_time": "2020-01-22T02:03:33.553110Z"
    }
   },
   "outputs": [
    {
     "name": "stdout",
     "output_type": "stream",
     "text": [
      "13\n",
      "7\n",
      "7\n"
     ]
    }
   ],
   "source": [
    "marks = [ 1, 6, 9, 23, 2, 7, 43]\n",
    "print(statistics.mean(marks))\n",
    "print(statistics.median_high(marks))\n",
    "print(statistics.median_low(marks))"
   ]
  },
  {
   "cell_type": "markdown",
   "metadata": {},
   "source": [
    "<h3>Collections Module -- deque for Queue-and-Stack</h3>"
   ]
  },
  {
   "cell_type": "code",
   "execution_count": 36,
   "metadata": {
    "ExecuteTime": {
     "end_time": "2020-01-22T02:06:50.446359Z",
     "start_time": "2020-01-22T02:06:50.440033Z"
    }
   },
   "outputs": [],
   "source": [
    "from collections import deque # duble ended que"
   ]
  },
  {
   "cell_type": "code",
   "execution_count": 42,
   "metadata": {
    "ExecuteTime": {
     "end_time": "2020-01-22T02:10:21.757883Z",
     "start_time": "2020-01-22T02:10:21.748336Z"
    }
   },
   "outputs": [
    {
     "name": "stdout",
     "output_type": "stream",
     "text": [
      "deque(['Zero', 'One'])\n",
      "deque(['Zero', 'One', 'Three', 'Four'])\n",
      "deque(['Minus One', 'Zero', 'One', 'Three', 'Four'])\n",
      "Four\n",
      "Minus One\n"
     ]
    }
   ],
   "source": [
    "queue = deque([\"Zero\", \"One\", \"Two\"])\n",
    "queue.pop()\n",
    "print(queue)\n",
    "queue.append(\"Three\")\n",
    "queue.append(\"Four\")\n",
    "print(queue)\n",
    "queue.appendleft(\"Minus One\")\n",
    "print(queue)\n",
    "print(queue.pop())\n",
    "print(queue.popleft())"
   ]
  },
  {
   "cell_type": "markdown",
   "metadata": {},
   "source": [
    "<h3>Date Module</h3>"
   ]
  },
  {
   "cell_type": "code",
   "execution_count": 50,
   "metadata": {
    "ExecuteTime": {
     "end_time": "2020-01-22T03:17:30.766541Z",
     "start_time": "2020-01-22T03:17:30.753392Z"
    }
   },
   "outputs": [
    {
     "name": "stdout",
     "output_type": "stream",
     "text": [
      "Today time and date: 2020-01-21 22:17:30.757980\n",
      "Today Year: 2020\n",
      "Today Month: 1\n",
      "Today Day: 21\n",
      "Hour: 22\n",
      "Minute: 17\n",
      "Seconds: 30\n"
     ]
    }
   ],
   "source": [
    "import datetime\n",
    "today_date = datetime.datetime.today()\n",
    "print(\"Today time and date:\", today_date)\n",
    "print(\"Today Year:\", today_date.year)\n",
    "print(\"Today Month:\", today_date.month)\n",
    "print(\"Today Day:\", today_date.day)\n",
    "print(\"Hour:\", today_date.hour)\n",
    "print(\"Minute:\", today_date.minute)\n",
    "print(\"Seconds:\", today_date.second)"
   ]
  },
  {
   "cell_type": "code",
   "execution_count": 63,
   "metadata": {
    "ExecuteTime": {
     "end_time": "2020-01-22T03:24:28.654851Z",
     "start_time": "2020-01-22T03:24:28.648241Z"
    }
   },
   "outputs": [
    {
     "name": "stdout",
     "output_type": "stream",
     "text": [
      "2019-04-07 00:00:00\n",
      "2019-07-06 00:00:00\n"
     ]
    }
   ],
   "source": [
    "some_date = datetime.datetime(2019, 4, 7)\n",
    "print(some_date)\n",
    "day = some_date\n",
    "day += datetime.timedelta(days=90)\n",
    "print(day)"
   ]
  },
  {
   "cell_type": "code",
   "execution_count": 64,
   "metadata": {
    "ExecuteTime": {
     "end_time": "2020-01-22T03:24:33.534289Z",
     "start_time": "2020-01-22T03:24:33.526652Z"
    }
   },
   "outputs": [
    {
     "data": {
      "text/plain": [
       "datetime.datetime(2019, 7, 6, 0, 0)"
      ]
     },
     "execution_count": 64,
     "metadata": {},
     "output_type": "execute_result"
    }
   ],
   "source": [
    "day "
   ]
  },
  {
   "cell_type": "code",
   "execution_count": 74,
   "metadata": {
    "ExecuteTime": {
     "end_time": "2020-01-22T03:28:17.134525Z",
     "start_time": "2020-01-22T03:28:17.127606Z"
    }
   },
   "outputs": [
    {
     "name": "stdout",
     "output_type": "stream",
     "text": [
      "days old 11977 days, 22:17:30.757980\n",
      "Years old 32.81369863013698\n"
     ]
    }
   ],
   "source": [
    "years_old = today_date - datetime.datetime(1987, 4, 7)\n",
    "print(\"days old\", years_old)\n",
    "print(\"Years old\", years_old.days/365)"
   ]
  },
  {
   "cell_type": "code",
   "execution_count": 72,
   "metadata": {
    "ExecuteTime": {
     "end_time": "2020-01-22T03:27:54.164204Z",
     "start_time": "2020-01-22T03:27:54.156183Z"
    }
   },
   "outputs": [
    {
     "data": {
      "text/plain": [
       "11977"
      ]
     },
     "execution_count": 72,
     "metadata": {},
     "output_type": "execute_result"
    }
   ],
   "source": [
    "years_old.days"
   ]
  },
  {
   "cell_type": "markdown",
   "metadata": {},
   "source": [
    "<h3>Methods and Arguments -- Basics</h3>"
   ]
  },
  {
   "cell_type": "markdown",
   "metadata": {},
   "source": [
    "``` python\n",
    "def example_method(mandarory_parameter, default_parameter=\"Default\", *variable_parameter, **kwargs)\n",
    "```"
   ]
  },
  {
   "cell_type": "code",
   "execution_count": 84,
   "metadata": {
    "ExecuteTime": {
     "end_time": "2020-01-22T04:01:25.941094Z",
     "start_time": "2020-01-22T04:01:25.916718Z"
    }
   },
   "outputs": [],
   "source": [
    "def example_method(mandarory_parameter, default_parameter=\"Default\",\n",
    "                   *args, **kwargs):\n",
    "    print(f\"\"\"\n",
    "    mandarory_parameter = {mandarory_parameter} {type(mandarory_parameter)}\n",
    "    default_parameter = {default_parameter} {type(default_parameter)}\n",
    "    args = {args}{type(args)}\n",
    "    kwargs = {kwargs} {type(kwargs)}\n",
    "    \"\"\")"
   ]
  },
  {
   "cell_type": "code",
   "execution_count": 85,
   "metadata": {
    "ExecuteTime": {
     "end_time": "2020-01-22T04:01:28.094516Z",
     "start_time": "2020-01-22T04:01:28.077817Z"
    }
   },
   "outputs": [
    {
     "name": "stdout",
     "output_type": "stream",
     "text": [
      "\n",
      "    mandarory_parameter = 15 <class 'int'>\n",
      "    default_parameter = 45 <class 'int'>\n",
      "    args = (65, 75, 80, 90)<class 'tuple'>\n",
      "    kwargs = {'key1': 'a', 'key2': 'b'} <class 'dict'>\n",
      "    \n"
     ]
    }
   ],
   "source": [
    "example_method(15, 45, 65, 75, 80, 90, key1='a', key2='b')"
   ]
  },
  {
   "cell_type": "markdown",
   "metadata": {},
   "source": [
    "<h3>Unpacking lists and Dictionaries</h3>"
   ]
  },
  {
   "cell_type": "code",
   "execution_count": 94,
   "metadata": {
    "ExecuteTime": {
     "end_time": "2020-01-22T04:08:23.530133Z",
     "start_time": "2020-01-22T04:08:23.523543Z"
    }
   },
   "outputs": [
    {
     "name": "stdout",
     "output_type": "stream",
     "text": [
      "\n",
      "    mandarory_parameter = 1 <class 'int'>\n",
      "    default_parameter = 2 <class 'int'>\n",
      "    args = (3, 4)<class 'tuple'>\n",
      "    kwargs = {'key1': 'a', 'key2': 'b'} <class 'dict'>\n",
      "    \n"
     ]
    }
   ],
   "source": [
    "lst = [1,2,3, 4]\n",
    "dic = {'key1':'a', 'key2':'b'}\n",
    "# example_method(lst[0], lst[1], lst[2])\n",
    "example_method(*lst, **dic) # Unpacking "
   ]
  },
  {
   "cell_type": "markdown",
   "metadata": {},
   "source": [
    "<h3>Module</h3> \n",
    "module is a set of class, method and some others "
   ]
  },
  {
   "cell_type": "code",
   "execution_count": 106,
   "metadata": {
    "ExecuteTime": {
     "end_time": "2020-01-22T04:20:41.254716Z",
     "start_time": "2020-01-22T04:20:41.241208Z"
    }
   },
   "outputs": [
    {
     "name": "stdout",
     "output_type": "stream",
     "text": [
      "__main__\n"
     ]
    }
   ],
   "source": [
    "def method_1():\n",
    "    print(\"method 1\")\n",
    "\n",
    "class ClassA:\n",
    "    def class_method_1(self):\n",
    "        print(\"class_method_1 method_1\")\n",
    "    \n",
    "print(__name__)\n",
    "\n",
    "if __name__ == \"__main__\":\n",
    "    method_1()\n",
    "    ClassA().class_method_1()\n"
   ]
  },
  {
   "cell_type": "code",
   "execution_count": 109,
   "metadata": {
    "ExecuteTime": {
     "end_time": "2020-01-22T04:20:59.133589Z",
     "start_time": "2020-01-22T04:20:59.123026Z"
    }
   },
   "outputs": [
    {
     "name": "stdout",
     "output_type": "stream",
     "text": [
      "method 1\n",
      "class_method_1 method_1\n"
     ]
    }
   ],
   "source": [
    "import module1\n",
    "module1.method_1()\n",
    "module1.ClassA().class_method_1()"
   ]
  },
  {
   "cell_type": "markdown",
   "metadata": {},
   "source": [
    "<h3>Defining equality for classes</h3>"
   ]
  },
  {
   "cell_type": "code",
   "execution_count": 113,
   "metadata": {
    "ExecuteTime": {
     "end_time": "2020-01-22T04:29:36.868339Z",
     "start_time": "2020-01-22T04:29:36.860533Z"
    }
   },
   "outputs": [],
   "source": [
    "class Student:\n",
    "    def __init__(self, id):\n",
    "        self.id = id \n",
    "        \n",
    "    def __eq__(self, other): # Dunder Method under-under methods \n",
    "        return self.id == other.id"
   ]
  },
  {
   "cell_type": "code",
   "execution_count": 118,
   "metadata": {
    "ExecuteTime": {
     "end_time": "2020-01-22T04:31:24.266596Z",
     "start_time": "2020-01-22T04:31:24.258984Z"
    }
   },
   "outputs": [
    {
     "name": "stdout",
     "output_type": "stream",
     "text": [
      "4737628200\n",
      "4737627864\n",
      "4737628368\n"
     ]
    }
   ],
   "source": [
    "student1 = Student(1)\n",
    "student2 = Student(2)\n",
    "student3 = Student(1)\n",
    "student4 = student1\n",
    "print(id(student1))\n",
    "print(id(student2))\n",
    "print(id(student3))"
   ]
  },
  {
   "cell_type": "code",
   "execution_count": 117,
   "metadata": {
    "ExecuteTime": {
     "end_time": "2020-01-22T04:31:08.340578Z",
     "start_time": "2020-01-22T04:31:08.330332Z"
    }
   },
   "outputs": [
    {
     "data": {
      "text/plain": [
       "True"
      ]
     },
     "execution_count": 117,
     "metadata": {},
     "output_type": "execute_result"
    }
   ],
   "source": [
    "student1 == student3"
   ]
  },
  {
   "cell_type": "markdown",
   "metadata": {},
   "source": [
    "<h3>None</h3>"
   ]
  },
  {
   "cell_type": "code",
   "execution_count": 119,
   "metadata": {
    "ExecuteTime": {
     "end_time": "2020-01-22T04:42:36.221570Z",
     "start_time": "2020-01-22T04:42:36.215084Z"
    }
   },
   "outputs": [
    {
     "name": "stdout",
     "output_type": "stream",
     "text": [
      "subject, great work, lastew@lastew.com, None, None\n"
     ]
    }
   ],
   "source": [
    "def email(subject, content, to, cc=None, bcc=None):\n",
    "    print(f\"{subject}, {content}, {to}, {cc}, {bcc}\")\n",
    "email('subject', 'great work', 'lastew@lastew.com')"
   ]
  },
  {
   "cell_type": "code",
   "execution_count": null,
   "metadata": {},
   "outputs": [],
   "source": []
  }
 ],
 "metadata": {
  "kernelspec": {
   "display_name": "Python 3",
   "language": "python",
   "name": "python3"
  },
  "language_info": {
   "codemirror_mode": {
    "name": "ipython",
    "version": 3
   },
   "file_extension": ".py",
   "mimetype": "text/x-python",
   "name": "python",
   "nbconvert_exporter": "python",
   "pygments_lexer": "ipython3",
   "version": "3.7.3"
  },
  "toc": {
   "base_numbering": 1,
   "nav_menu": {},
   "number_sections": true,
   "sideBar": true,
   "skip_h1_title": false,
   "title_cell": "Table of Contents",
   "title_sidebar": "Contents",
   "toc_cell": false,
   "toc_position": {},
   "toc_section_display": true,
   "toc_window_display": false
  }
 },
 "nbformat": 4,
 "nbformat_minor": 2
}
