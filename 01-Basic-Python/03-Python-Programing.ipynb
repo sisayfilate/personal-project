{
 "cells": [
  {
   "cell_type": "markdown",
   "metadata": {},
   "source": [
    "**Task**  \n",
    "Given an integer, , perform the following conditional actions:\n",
    "python \n",
    "```\n",
    "If  is odd, print Weird\n",
    "If  is even and in the inclusive range of  to , print Not Weird\n",
    "If  is even and in the inclusive range of  to , print Weird\n",
    "If  is even and greater than , print Not Weird\n",
    "```"
   ]
  },
  {
   "cell_type": "code",
   "execution_count": 2,
   "metadata": {
    "ExecuteTime": {
     "end_time": "2020-01-08T18:50:11.516928Z",
     "start_time": "2020-01-08T18:50:09.997812Z"
    }
   },
   "outputs": [
    {
     "name": "stdout",
     "output_type": "stream",
     "text": [
      "enter a number between 1 and 100 encluded\n",
      "4\n",
      "Not Weird\n"
     ]
    }
   ],
   "source": [
    "import math\n",
    "import os\n",
    "import random\n",
    "import re\n",
    "import sys\n",
    "if __name__ == '__main__':\n",
    "    print(\"enter a number between 1 and 100 encluded\")\n",
    "    n = int(input().strip())\n",
    "    if n in range(1,101):\n",
    "        if (2 <= n <= 5) and (n%2 ==0):\n",
    "            print('Not Weird')\n",
    "        elif (6 <= n <= 20) and (n%2 ==0):\n",
    "            print('Weird')\n",
    "        elif (n > 20) and (n%2 == 0):\n",
    "            print('Not Weird')\n",
    "        else:\n",
    "            print('Weird')\n",
    "    else:\n",
    "        print('You are out of range')    "
   ]
  },
  {
   "cell_type": "markdown",
   "metadata": {},
   "source": [
    "**Task**  \n",
    "Read two integers from STDIN and print three lines where:\n",
    "python\n",
    "```\n",
    "The first line contains the sum of the two numbers.\n",
    "The second line contains the difference of the two numbers (first - second).\n",
    "The third line contains the product of the two numbers.\n",
    "```"
   ]
  },
  {
   "cell_type": "code",
   "execution_count": 28,
   "metadata": {
    "ExecuteTime": {
     "end_time": "2020-01-06T01:18:23.752256Z",
     "start_time": "2020-01-06T01:18:19.136954Z"
    }
   },
   "outputs": [
    {
     "name": "stdout",
     "output_type": "stream",
     "text": [
      "3\n",
      "2\n",
      "5\n",
      "1\n",
      "6\n"
     ]
    }
   ],
   "source": [
    "if __name__ == '__main__':\n",
    "    a = int(input())\n",
    "    b = int(input())\n",
    "    if (1 <= a <= 10000000000) and (1 <= b <= 10000000000):\n",
    "        print(a+b)\n",
    "        print(a-b)\n",
    "        print(a*b)"
   ]
  },
  {
   "cell_type": "markdown",
   "metadata": {
    "ExecuteTime": {
     "end_time": "2020-01-06T01:18:04.276322Z",
     "start_time": "2020-01-06T01:18:04.256458Z"
    }
   },
   "source": [
    "**Task**  \n",
    "Read two integers and print two lines. The first line should contain integer division,  // . The second line should contain float division,  / .\n",
    "\n",
    "You don't need to perform any rounding or formatting operations."
   ]
  },
  {
   "cell_type": "code",
   "execution_count": 29,
   "metadata": {
    "ExecuteTime": {
     "end_time": "2020-01-06T01:22:01.845698Z",
     "start_time": "2020-01-06T01:21:56.691000Z"
    }
   },
   "outputs": [
    {
     "name": "stdout",
     "output_type": "stream",
     "text": [
      "4\n",
      "3\n",
      "1\n",
      "1.3333333333333333\n"
     ]
    }
   ],
   "source": [
    "if __name__ == '__main__':\n",
    "    a = int(input())\n",
    "    b = int(input())\n",
    "    print(a//b)\n",
    "    print(a/b)"
   ]
  },
  {
   "cell_type": "markdown",
   "metadata": {},
   "source": [
    "**Task**  \n",
    "Read an integer . For all non-negative integers , print . See the sample for details."
   ]
  },
  {
   "cell_type": "code",
   "execution_count": 35,
   "metadata": {
    "ExecuteTime": {
     "end_time": "2020-01-06T03:18:01.123719Z",
     "start_time": "2020-01-06T03:17:58.934247Z"
    }
   },
   "outputs": [
    {
     "name": "stdout",
     "output_type": "stream",
     "text": [
      "5\n",
      "0\n",
      "1\n",
      "4\n",
      "9\n",
      "16\n"
     ]
    }
   ],
   "source": [
    "if __name__ == '__main__':\n",
    "    n = int(input())\n",
    "    if 1 <= n <= 20:\n",
    "        for i in range(n):\n",
    "            print(i**2)\n"
   ]
  },
  {
   "cell_type": "markdown",
   "metadata": {
    "ExecuteTime": {
     "end_time": "2020-01-06T03:15:09.261740Z",
     "start_time": "2020-01-06T03:15:09.252110Z"
    }
   },
   "source": [
    "<b>Task</b>  \n",
    "You are given the year, and you have to write a function to check if the year is leap or not."
   ]
  },
  {
   "cell_type": "code",
   "execution_count": 148,
   "metadata": {
    "ExecuteTime": {
     "end_time": "2020-01-08T02:43:49.669164Z",
     "start_time": "2020-01-08T02:43:44.298979Z"
    }
   },
   "outputs": [
    {
     "name": "stdout",
     "output_type": "stream",
     "text": [
      "2012\n"
     ]
    },
    {
     "data": {
      "text/plain": [
       "False"
      ]
     },
     "execution_count": 148,
     "metadata": {},
     "output_type": "execute_result"
    }
   ],
   "source": [
    "def is_leap(year):\n",
    "    leap = False\n",
    "    if (1990 <= year <= 10**5):\n",
    "         \n",
    "    # Write your logic here\n",
    "        if (year%4== 0): #and (year%100 == 0) and (year%400==0): \n",
    "            if (year%100 == 0) and (year%4==0):# and (year%100==0) and (year%400):\n",
    "                return not leap\n",
    "#             else: \n",
    "    \n",
    "            else:\n",
    "                if (year%100 != 0) and (year%400!=0):\n",
    "                    return leap\n",
    "year = int(input())\n",
    "is_leap(year)\n",
    "# 1990 -f, 1992-t, 2400-t 2000-t"
   ]
  },
  {
   "cell_type": "markdown",
   "metadata": {
    "ExecuteTime": {
     "end_time": "2020-01-08T02:44:12.188556Z",
     "start_time": "2020-01-08T02:44:12.159645Z"
    }
   },
   "source": [
    "<b>Task</b>  \n",
    "Given the meal price (base cost of a meal), tip percent (the percentage of the meal price being added as tip), and tax percent (the percentage of the meal price being added as tax) for a meal, find and print the meal's total cost."
   ]
  },
  {
   "cell_type": "code",
   "execution_count": 14,
   "metadata": {
    "ExecuteTime": {
     "end_time": "2020-01-08T19:15:34.923554Z",
     "start_time": "2020-01-08T19:15:29.189801Z"
    }
   },
   "outputs": [
    {
     "name": "stdout",
     "output_type": "stream",
     "text": [
      "20.75\n",
      "10\n",
      "3\n"
     ]
    },
    {
     "data": {
      "text/plain": [
       "23"
      ]
     },
     "execution_count": 14,
     "metadata": {},
     "output_type": "execute_result"
    }
   ],
   "source": [
    "# Complete the solve function below.\n",
    "def solve(meal_cost, tip_percent, tax_percent):\n",
    "    if __name__ == '__main__':\n",
    "        meal_cost = float(input())\n",
    "\n",
    "        tip_percent = int(input())\n",
    "\n",
    "        tax_percent = int(input())\n",
    "\n",
    "        tip = meal_cost * (tip_percent/100)\n",
    "        tax = meal_cost * (tax_percent/100)\n",
    "        total_bill = meal_cost + tip + tax\n",
    "    \n",
    "    return round(total_bill)\n",
    "\n",
    "solve(meal_cost, tip_percent, tax_percent)"
   ]
  },
  {
   "cell_type": "code",
   "execution_count": null,
   "metadata": {},
   "outputs": [],
   "source": [
    "solve"
   ]
  },
  {
   "cell_type": "code",
   "execution_count": 165,
   "metadata": {
    "ExecuteTime": {
     "end_time": "2020-01-08T14:13:24.304210Z",
     "start_time": "2020-01-08T14:13:19.843464Z"
    }
   },
   "outputs": [
    {
     "name": "stdout",
     "output_type": "stream",
     "text": [
      "12\n",
      "20\n",
      "8\n"
     ]
    },
    {
     "data": {
      "text/plain": [
       "15"
      ]
     },
     "execution_count": 165,
     "metadata": {},
     "output_type": "execute_result"
    }
   ],
   "source": [
    "i = 4\n",
    "d = 4.0\n",
    "s = 'HackerRank '\n",
    "# Declare second integer, double, and String variables.\n",
    "\n",
    "# Read and save an integer, double, and String to your variables.\n",
    "\n",
    "# Print the sum of both integer variables on a new line.\n",
    "\n",
    "# Print the sum of the double variables on a new line.\n",
    "\n",
    "# Concatenate and print the String variables on a new line\n",
    "# The 's' variable above should be printed first."
   ]
  },
  {
   "cell_type": "code",
   "execution_count": 4,
   "metadata": {
    "ExecuteTime": {
     "end_time": "2020-01-08T19:08:00.118995Z",
     "start_time": "2020-01-08T19:07:55.574079Z"
    }
   },
   "outputs": [
    {
     "name": "stdout",
     "output_type": "stream",
     "text": [
      "4\n",
      "5\n",
      "6\n"
     ]
    }
   ],
   "source": [
    " if __name__ == '__main__':\n",
    "        meal_cost = float(input())\n",
    "\n",
    "        tip_percent = int(input())\n",
    "\n",
    "        tax_percent = int(input())"
   ]
  },
  {
   "cell_type": "code",
   "execution_count": 9,
   "metadata": {
    "ExecuteTime": {
     "end_time": "2020-01-08T19:10:56.203702Z",
     "start_time": "2020-01-08T19:10:56.195436Z"
    }
   },
   "outputs": [
    {
     "ename": "SyntaxError",
     "evalue": "invalid syntax (<ipython-input-9-45190f3223bb>, line 2)",
     "output_type": "error",
     "traceback": [
      "\u001b[0;36m  File \u001b[0;32m\"<ipython-input-9-45190f3223bb>\"\u001b[0;36m, line \u001b[0;32m2\u001b[0m\n\u001b[0;31m    int main(int argc, char *argv[]) {\u001b[0m\n\u001b[0m           ^\u001b[0m\n\u001b[0;31mSyntaxError\u001b[0m\u001b[0;31m:\u001b[0m invalid syntax\n"
     ]
    }
   ],
   "source": [
    "# using namespace std;\n",
    "int main(int argc, char *argv[]) {\n",
    "    double pi = 3.14159;\n",
    "#     // Let's say we wanted to scale this to 2 decimal places:\n",
    "#     cout << fixed << setprecision(2) << pi << endl;\n",
    "#     printf(\"%.2f\", pi);\n",
    "}"
   ]
  },
  {
   "cell_type": "code",
   "execution_count": 138,
   "metadata": {
    "ExecuteTime": {
     "end_time": "2020-01-06T04:57:24.498454Z",
     "start_time": "2020-01-06T04:57:24.490600Z"
    }
   },
   "outputs": [
    {
     "data": {
      "text/plain": [
       "0"
      ]
     },
     "execution_count": 138,
     "metadata": {},
     "output_type": "execute_result"
    }
   ],
   "source": [
    "2400%400"
   ]
  },
  {
   "cell_type": "code",
   "execution_count": 141,
   "metadata": {
    "ExecuteTime": {
     "end_time": "2020-01-06T04:59:47.056864Z",
     "start_time": "2020-01-06T04:59:47.047479Z"
    }
   },
   "outputs": [
    {
     "data": {
      "text/plain": [
       "0"
      ]
     },
     "execution_count": 141,
     "metadata": {},
     "output_type": "execute_result"
    }
   ],
   "source": [
    "1992%4"
   ]
  },
  {
   "cell_type": "code",
   "execution_count": null,
   "metadata": {},
   "outputs": [],
   "source": []
  }
 ],
 "metadata": {
  "kernelspec": {
   "display_name": "Python 3",
   "language": "python",
   "name": "python3"
  },
  "language_info": {
   "codemirror_mode": {
    "name": "ipython",
    "version": 3
   },
   "file_extension": ".py",
   "mimetype": "text/x-python",
   "name": "python",
   "nbconvert_exporter": "python",
   "pygments_lexer": "ipython3",
   "version": "3.7.3"
  },
  "toc": {
   "base_numbering": 1,
   "nav_menu": {},
   "number_sections": true,
   "sideBar": true,
   "skip_h1_title": false,
   "title_cell": "Table of Contents",
   "title_sidebar": "Contents",
   "toc_cell": false,
   "toc_position": {},
   "toc_section_display": true,
   "toc_window_display": false
  }
 },
 "nbformat": 4,
 "nbformat_minor": 2
}
