{
 "cells": [
  {
   "cell_type": "markdown",
   "metadata": {},
   "source": [
    "### Pre-defined lists"
   ]
  },
  {
   "cell_type": "code",
   "execution_count": 9,
   "metadata": {
    "ExecuteTime": {
     "end_time": "2020-02-08T19:51:48.362189Z",
     "start_time": "2020-02-08T19:51:48.355494Z"
    }
   },
   "outputs": [],
   "source": [
    "names = ['Untied States', 'Australia', 'Japan', 'India', 'Russia', 'Morocco', 'Egypt']\n",
    "dr = [True, False, False, False, True, True, True]\n",
    "cpc = [809, 731, 588, 18, 200, 70, 45]\n",
    "row_labels = ['US', 'AUS', 'JPN', 'IN', 'RU', 'MOR', 'EG']"
   ]
  },
  {
   "cell_type": "code",
   "execution_count": 15,
   "metadata": {
    "ExecuteTime": {
     "end_time": "2020-02-08T19:54:25.768057Z",
     "start_time": "2020-02-08T19:54:25.748834Z"
    }
   },
   "outputs": [
    {
     "data": {
      "text/html": [
       "<div>\n",
       "<style scoped>\n",
       "    .dataframe tbody tr th:only-of-type {\n",
       "        vertical-align: middle;\n",
       "    }\n",
       "\n",
       "    .dataframe tbody tr th {\n",
       "        vertical-align: top;\n",
       "    }\n",
       "\n",
       "    .dataframe thead th {\n",
       "        text-align: right;\n",
       "    }\n",
       "</style>\n",
       "<table border=\"1\" class=\"dataframe\">\n",
       "  <thead>\n",
       "    <tr style=\"text-align: right;\">\n",
       "      <th></th>\n",
       "      <th>Country</th>\n",
       "      <th>drives_right</th>\n",
       "      <th>Cars_per_cap</th>\n",
       "    </tr>\n",
       "  </thead>\n",
       "  <tbody>\n",
       "    <tr>\n",
       "      <th>US</th>\n",
       "      <td>Untied States</td>\n",
       "      <td>True</td>\n",
       "      <td>809</td>\n",
       "    </tr>\n",
       "    <tr>\n",
       "      <th>AUS</th>\n",
       "      <td>Australia</td>\n",
       "      <td>False</td>\n",
       "      <td>731</td>\n",
       "    </tr>\n",
       "    <tr>\n",
       "      <th>JPN</th>\n",
       "      <td>Japan</td>\n",
       "      <td>False</td>\n",
       "      <td>588</td>\n",
       "    </tr>\n",
       "    <tr>\n",
       "      <th>IN</th>\n",
       "      <td>India</td>\n",
       "      <td>False</td>\n",
       "      <td>18</td>\n",
       "    </tr>\n",
       "    <tr>\n",
       "      <th>RU</th>\n",
       "      <td>Russia</td>\n",
       "      <td>True</td>\n",
       "      <td>200</td>\n",
       "    </tr>\n",
       "    <tr>\n",
       "      <th>MOR</th>\n",
       "      <td>Morocco</td>\n",
       "      <td>True</td>\n",
       "      <td>70</td>\n",
       "    </tr>\n",
       "    <tr>\n",
       "      <th>EG</th>\n",
       "      <td>Egypt</td>\n",
       "      <td>True</td>\n",
       "      <td>45</td>\n",
       "    </tr>\n",
       "  </tbody>\n",
       "</table>\n",
       "</div>"
      ],
      "text/plain": [
       "           Country  drives_right  Cars_per_cap\n",
       "US   Untied States          True           809\n",
       "AUS      Australia         False           731\n",
       "JPN          Japan         False           588\n",
       "IN           India         False            18\n",
       "RU          Russia          True           200\n",
       "MOR        Morocco          True            70\n",
       "EG           Egypt          True            45"
      ]
     },
     "execution_count": 15,
     "metadata": {},
     "output_type": "execute_result"
    }
   ],
   "source": [
    "import pandas as pd\n",
    "cars_dict = {'Country':names, 'drives_right':dr, 'Cars_per_cap':cpc, }\n",
    "cars = pd.DataFrame(cars_dict, index=row_labels) # or we can and index by cars.index = row_labels\n",
    "cars"
   ]
  },
  {
   "cell_type": "code",
   "execution_count": 16,
   "metadata": {
    "ExecuteTime": {
     "end_time": "2020-02-08T19:54:29.417747Z",
     "start_time": "2020-02-08T19:54:29.401508Z"
    }
   },
   "outputs": [
    {
     "data": {
      "text/html": [
       "<div>\n",
       "<style scoped>\n",
       "    .dataframe tbody tr th:only-of-type {\n",
       "        vertical-align: middle;\n",
       "    }\n",
       "\n",
       "    .dataframe tbody tr th {\n",
       "        vertical-align: top;\n",
       "    }\n",
       "\n",
       "    .dataframe thead th {\n",
       "        text-align: right;\n",
       "    }\n",
       "</style>\n",
       "<table border=\"1\" class=\"dataframe\">\n",
       "  <thead>\n",
       "    <tr style=\"text-align: right;\">\n",
       "      <th></th>\n",
       "      <th>Country</th>\n",
       "      <th>drives_right</th>\n",
       "    </tr>\n",
       "  </thead>\n",
       "  <tbody>\n",
       "    <tr>\n",
       "      <th>JPN</th>\n",
       "      <td>Japan</td>\n",
       "      <td>False</td>\n",
       "    </tr>\n",
       "    <tr>\n",
       "      <th>IN</th>\n",
       "      <td>India</td>\n",
       "      <td>False</td>\n",
       "    </tr>\n",
       "  </tbody>\n",
       "</table>\n",
       "</div>"
      ],
      "text/plain": [
       "    Country  drives_right\n",
       "JPN   Japan         False\n",
       "IN    India         False"
      ]
     },
     "execution_count": 16,
     "metadata": {},
     "output_type": "execute_result"
    }
   ],
   "source": [
    "cars.iloc[2:4,0:2]"
   ]
  },
  {
   "cell_type": "code",
   "execution_count": 48,
   "metadata": {
    "ExecuteTime": {
     "end_time": "2020-02-08T20:06:38.146902Z",
     "start_time": "2020-02-08T20:06:38.129778Z"
    }
   },
   "outputs": [
    {
     "data": {
      "text/html": [
       "<div>\n",
       "<style scoped>\n",
       "    .dataframe tbody tr th:only-of-type {\n",
       "        vertical-align: middle;\n",
       "    }\n",
       "\n",
       "    .dataframe tbody tr th {\n",
       "        vertical-align: top;\n",
       "    }\n",
       "\n",
       "    .dataframe thead th {\n",
       "        text-align: right;\n",
       "    }\n",
       "</style>\n",
       "<table border=\"1\" class=\"dataframe\">\n",
       "  <thead>\n",
       "    <tr style=\"text-align: right;\">\n",
       "      <th></th>\n",
       "      <th>Country</th>\n",
       "      <th>drives_right</th>\n",
       "      <th>Cars_per_cap</th>\n",
       "    </tr>\n",
       "  </thead>\n",
       "  <tbody>\n",
       "    <tr>\n",
       "      <th>JPN</th>\n",
       "      <td>Japan</td>\n",
       "      <td>False</td>\n",
       "      <td>588</td>\n",
       "    </tr>\n",
       "    <tr>\n",
       "      <th>EG</th>\n",
       "      <td>Egypt</td>\n",
       "      <td>True</td>\n",
       "      <td>45</td>\n",
       "    </tr>\n",
       "  </tbody>\n",
       "</table>\n",
       "</div>"
      ],
      "text/plain": [
       "    Country  drives_right  Cars_per_cap\n",
       "JPN   Japan         False           588\n",
       "EG    Egypt          True            45"
      ]
     },
     "execution_count": 48,
     "metadata": {},
     "output_type": "execute_result"
    }
   ],
   "source": [
    "cars.loc[cars['Country'].str.contains('p')]\n",
    "# data.loc[data['Type 1'].str.contains('Fire|Grass', flags=re.I, regex=True)].head()"
   ]
  },
  {
   "cell_type": "code",
   "execution_count": 57,
   "metadata": {
    "ExecuteTime": {
     "end_time": "2020-02-08T20:12:52.781313Z",
     "start_time": "2020-02-08T20:12:52.762358Z"
    }
   },
   "outputs": [
    {
     "data": {
      "text/html": [
       "<div>\n",
       "<style scoped>\n",
       "    .dataframe tbody tr th:only-of-type {\n",
       "        vertical-align: middle;\n",
       "    }\n",
       "\n",
       "    .dataframe tbody tr th {\n",
       "        vertical-align: top;\n",
       "    }\n",
       "\n",
       "    .dataframe thead th {\n",
       "        text-align: right;\n",
       "    }\n",
       "</style>\n",
       "<table border=\"1\" class=\"dataframe\">\n",
       "  <thead>\n",
       "    <tr style=\"text-align: right;\">\n",
       "      <th></th>\n",
       "      <th>Country</th>\n",
       "      <th>drives_right</th>\n",
       "      <th>Cars_per_cap</th>\n",
       "      <th>Economic_rank</th>\n",
       "    </tr>\n",
       "  </thead>\n",
       "  <tbody>\n",
       "    <tr>\n",
       "      <th>US</th>\n",
       "      <td>Untied States</td>\n",
       "      <td>True</td>\n",
       "      <td>809</td>\n",
       "      <td>high</td>\n",
       "    </tr>\n",
       "    <tr>\n",
       "      <th>AUS</th>\n",
       "      <td>Australia</td>\n",
       "      <td>False</td>\n",
       "      <td>731</td>\n",
       "      <td>high</td>\n",
       "    </tr>\n",
       "    <tr>\n",
       "      <th>JPN</th>\n",
       "      <td>Japan</td>\n",
       "      <td>False</td>\n",
       "      <td>588</td>\n",
       "      <td>high</td>\n",
       "    </tr>\n",
       "    <tr>\n",
       "      <th>IN</th>\n",
       "      <td>India</td>\n",
       "      <td>False</td>\n",
       "      <td>18</td>\n",
       "      <td>low</td>\n",
       "    </tr>\n",
       "    <tr>\n",
       "      <th>RU</th>\n",
       "      <td>Russia</td>\n",
       "      <td>True</td>\n",
       "      <td>200</td>\n",
       "      <td>medium</td>\n",
       "    </tr>\n",
       "    <tr>\n",
       "      <th>MOR</th>\n",
       "      <td>Morocco</td>\n",
       "      <td>True</td>\n",
       "      <td>70</td>\n",
       "      <td>low</td>\n",
       "    </tr>\n",
       "    <tr>\n",
       "      <th>EG</th>\n",
       "      <td>Egypt</td>\n",
       "      <td>True</td>\n",
       "      <td>45</td>\n",
       "      <td>low</td>\n",
       "    </tr>\n",
       "  </tbody>\n",
       "</table>\n",
       "</div>"
      ],
      "text/plain": [
       "           Country  drives_right  Cars_per_cap Economic_rank\n",
       "US   Untied States          True           809          high\n",
       "AUS      Australia         False           731          high\n",
       "JPN          Japan         False           588          high\n",
       "IN           India         False            18           low\n",
       "RU          Russia          True           200        medium\n",
       "MOR        Morocco          True            70           low\n",
       "EG           Egypt          True            45           low"
      ]
     },
     "execution_count": 57,
     "metadata": {},
     "output_type": "execute_result"
    }
   ],
   "source": [
    "cars['Economic_rank'] = cars['Cars_per_cap'].apply(lambda x: 'low' if x <100 else ('medium' if x<500 else 'high'))\n",
    "cars"
   ]
  },
  {
   "cell_type": "markdown",
   "metadata": {},
   "source": [
    "### Changing column value by filter"
   ]
  },
  {
   "cell_type": "code",
   "execution_count": 61,
   "metadata": {
    "ExecuteTime": {
     "end_time": "2020-02-08T20:17:15.896174Z",
     "start_time": "2020-02-08T20:17:15.874571Z"
    }
   },
   "outputs": [
    {
     "data": {
      "text/html": [
       "<div>\n",
       "<style scoped>\n",
       "    .dataframe tbody tr th:only-of-type {\n",
       "        vertical-align: middle;\n",
       "    }\n",
       "\n",
       "    .dataframe tbody tr th {\n",
       "        vertical-align: top;\n",
       "    }\n",
       "\n",
       "    .dataframe thead th {\n",
       "        text-align: right;\n",
       "    }\n",
       "</style>\n",
       "<table border=\"1\" class=\"dataframe\">\n",
       "  <thead>\n",
       "    <tr style=\"text-align: right;\">\n",
       "      <th></th>\n",
       "      <th>Country</th>\n",
       "      <th>drives_right</th>\n",
       "      <th>Cars_per_cap</th>\n",
       "      <th>Economic_rank</th>\n",
       "    </tr>\n",
       "  </thead>\n",
       "  <tbody>\n",
       "    <tr>\n",
       "      <th>US</th>\n",
       "      <td>Untied States</td>\n",
       "      <td>True</td>\n",
       "      <td>809</td>\n",
       "      <td>Very Well</td>\n",
       "    </tr>\n",
       "    <tr>\n",
       "      <th>AUS</th>\n",
       "      <td>Australia</td>\n",
       "      <td>False</td>\n",
       "      <td>731</td>\n",
       "      <td>Very Well</td>\n",
       "    </tr>\n",
       "    <tr>\n",
       "      <th>JPN</th>\n",
       "      <td>Japan</td>\n",
       "      <td>False</td>\n",
       "      <td>588</td>\n",
       "      <td>high</td>\n",
       "    </tr>\n",
       "    <tr>\n",
       "      <th>IN</th>\n",
       "      <td>India</td>\n",
       "      <td>False</td>\n",
       "      <td>18</td>\n",
       "      <td>low</td>\n",
       "    </tr>\n",
       "    <tr>\n",
       "      <th>RU</th>\n",
       "      <td>Russia</td>\n",
       "      <td>True</td>\n",
       "      <td>200</td>\n",
       "      <td>medium</td>\n",
       "    </tr>\n",
       "    <tr>\n",
       "      <th>MOR</th>\n",
       "      <td>Morocco</td>\n",
       "      <td>True</td>\n",
       "      <td>70</td>\n",
       "      <td>low</td>\n",
       "    </tr>\n",
       "    <tr>\n",
       "      <th>EG</th>\n",
       "      <td>Egypt</td>\n",
       "      <td>True</td>\n",
       "      <td>45</td>\n",
       "      <td>low</td>\n",
       "    </tr>\n",
       "  </tbody>\n",
       "</table>\n",
       "</div>"
      ],
      "text/plain": [
       "           Country  drives_right  Cars_per_cap Economic_rank\n",
       "US   Untied States          True           809     Very Well\n",
       "AUS      Australia         False           731     Very Well\n",
       "JPN          Japan         False           588          high\n",
       "IN           India         False            18           low\n",
       "RU          Russia          True           200        medium\n",
       "MOR        Morocco          True            70           low\n",
       "EG           Egypt          True            45           low"
      ]
     },
     "execution_count": 61,
     "metadata": {},
     "output_type": "execute_result"
    }
   ],
   "source": [
    "cars.loc[cars['Cars_per_cap'] > 600, 'Economic_rank'] = 'Very Well'\n",
    "cars"
   ]
  },
  {
   "cell_type": "code",
   "execution_count": 69,
   "metadata": {
    "ExecuteTime": {
     "end_time": "2020-02-08T20:21:03.229250Z",
     "start_time": "2020-02-08T20:21:03.206978Z"
    }
   },
   "outputs": [
    {
     "data": {
      "text/html": [
       "<div>\n",
       "<style scoped>\n",
       "    .dataframe tbody tr th:only-of-type {\n",
       "        vertical-align: middle;\n",
       "    }\n",
       "\n",
       "    .dataframe tbody tr th {\n",
       "        vertical-align: top;\n",
       "    }\n",
       "\n",
       "    .dataframe thead th {\n",
       "        text-align: right;\n",
       "    }\n",
       "</style>\n",
       "<table border=\"1\" class=\"dataframe\">\n",
       "  <thead>\n",
       "    <tr style=\"text-align: right;\">\n",
       "      <th></th>\n",
       "      <th>Country</th>\n",
       "      <th>drives_right</th>\n",
       "      <th>Cars_per_cap</th>\n",
       "      <th>Economic_rank</th>\n",
       "    </tr>\n",
       "  </thead>\n",
       "  <tbody>\n",
       "    <tr>\n",
       "      <th>US</th>\n",
       "      <td>Untied States</td>\n",
       "      <td>True</td>\n",
       "      <td>809</td>\n",
       "      <td>Very Well</td>\n",
       "    </tr>\n",
       "    <tr>\n",
       "      <th>AUS</th>\n",
       "      <td>Australia</td>\n",
       "      <td>False</td>\n",
       "      <td>731</td>\n",
       "      <td>Very Well</td>\n",
       "    </tr>\n",
       "    <tr>\n",
       "      <th>JPN</th>\n",
       "      <td>Japan</td>\n",
       "      <td>False</td>\n",
       "      <td>588</td>\n",
       "      <td>high</td>\n",
       "    </tr>\n",
       "    <tr>\n",
       "      <th>IN</th>\n",
       "      <td>China</td>\n",
       "      <td>False</td>\n",
       "      <td>18</td>\n",
       "      <td>Very Low</td>\n",
       "    </tr>\n",
       "    <tr>\n",
       "      <th>RU</th>\n",
       "      <td>Russia</td>\n",
       "      <td>True</td>\n",
       "      <td>200</td>\n",
       "      <td>medium</td>\n",
       "    </tr>\n",
       "    <tr>\n",
       "      <th>MOR</th>\n",
       "      <td>Morocco</td>\n",
       "      <td>True</td>\n",
       "      <td>70</td>\n",
       "      <td>low</td>\n",
       "    </tr>\n",
       "    <tr>\n",
       "      <th>EG</th>\n",
       "      <td>Egypt</td>\n",
       "      <td>True</td>\n",
       "      <td>45</td>\n",
       "      <td>low</td>\n",
       "    </tr>\n",
       "  </tbody>\n",
       "</table>\n",
       "</div>"
      ],
      "text/plain": [
       "           Country  drives_right  Cars_per_cap Economic_rank\n",
       "US   Untied States          True           809     Very Well\n",
       "AUS      Australia         False           731     Very Well\n",
       "JPN          Japan         False           588          high\n",
       "IN           China         False            18      Very Low\n",
       "RU          Russia          True           200        medium\n",
       "MOR        Morocco          True            70           low\n",
       "EG           Egypt          True            45           low"
      ]
     },
     "execution_count": 69,
     "metadata": {},
     "output_type": "execute_result"
    }
   ],
   "source": [
    "cars.loc[cars['Cars_per_cap'] < 20, ['Country', 'Economic_rank']] = ['China', 'Very Low']\n",
    "# cars.loc[cars['Cars_per_cap']==18] # alternative\n",
    "cars"
   ]
  },
  {
   "cell_type": "markdown",
   "metadata": {},
   "source": [
    "### Iterrows()"
   ]
  },
  {
   "cell_type": "code",
   "execution_count": 71,
   "metadata": {
    "ExecuteTime": {
     "end_time": "2020-02-08T20:24:25.592221Z",
     "start_time": "2020-02-08T20:24:25.572961Z"
    }
   },
   "outputs": [
    {
     "name": "stdout",
     "output_type": "stream",
     "text": [
      "US Country          Untied States\n",
      "drives_right              True\n",
      "Cars_per_cap               809\n",
      "Economic_rank        Very Well\n",
      "Name: US, dtype: object\n",
      "AUS Country          Australia\n",
      "drives_right         False\n",
      "Cars_per_cap           731\n",
      "Economic_rank    Very Well\n",
      "Name: AUS, dtype: object\n",
      "JPN Country          Japan\n",
      "drives_right     False\n",
      "Cars_per_cap       588\n",
      "Economic_rank     high\n",
      "Name: JPN, dtype: object\n",
      "IN Country             China\n",
      "drives_right        False\n",
      "Cars_per_cap           18\n",
      "Economic_rank    Very Low\n",
      "Name: IN, dtype: object\n",
      "RU Country          Russia\n",
      "drives_right       True\n",
      "Cars_per_cap        200\n",
      "Economic_rank    medium\n",
      "Name: RU, dtype: object\n",
      "MOR Country          Morocco\n",
      "drives_right        True\n",
      "Cars_per_cap          70\n",
      "Economic_rank        low\n",
      "Name: MOR, dtype: object\n",
      "EG Country          Egypt\n",
      "drives_right      True\n",
      "Cars_per_cap        45\n",
      "Economic_rank      low\n",
      "Name: EG, dtype: object\n"
     ]
    }
   ],
   "source": [
    "for i, j in cars.iterrows():\n",
    "    print(i, j)"
   ]
  },
  {
   "cell_type": "markdown",
   "metadata": {},
   "source": [
    "### Arrays"
   ]
  },
  {
   "cell_type": "code",
   "execution_count": 81,
   "metadata": {
    "ExecuteTime": {
     "end_time": "2020-02-08T20:31:49.641147Z",
     "start_time": "2020-02-08T20:31:49.631643Z"
    }
   },
   "outputs": [
    {
     "name": "stdout",
     "output_type": "stream",
     "text": [
      "[False  True]\n",
      "[False False]\n",
      "[ True  True]\n",
      "[False  True]\n"
     ]
    }
   ],
   "source": [
    "import numpy as np\n",
    "x = np.array([9,5])\n",
    "y = np.array([16,12])\n",
    "print(np.logical_not(y>12))\n",
    "print(np.logical_and(x<6, y>16)) #f t,  f f\n",
    "print(np.logical_not(x<5)) # f f\n",
    "print(np.logical_or(x<6, y>16)) #f t f f"
   ]
  },
  {
   "cell_type": "markdown",
   "metadata": {},
   "source": [
    "### max and min"
   ]
  },
  {
   "cell_type": "code",
   "execution_count": 92,
   "metadata": {
    "ExecuteTime": {
     "end_time": "2020-02-08T20:37:39.814728Z",
     "start_time": "2020-02-08T20:37:39.802896Z"
    }
   },
   "outputs": [
    {
     "name": "stdout",
     "output_type": "stream",
     "text": [
      "[7, 12, 14, 32, 34, 43]\n",
      "[7, 12, 14, 32, 34, 43]\n",
      "The oldest person is: 43\n",
      "The youngest person is : 7\n"
     ]
    }
   ],
   "source": [
    "ages = [12, 14, 7, 34, 32, 43]\n",
    "ages.sort()\n",
    "print(ages)\n",
    "sorted_age = sorted(ages)\n",
    "print(sorted_age)\n",
    "print('The oldest person is: {}'.format(sorted_age[-1]))\n",
    "print(f'The youngest person is : {sorted_age[0]}')"
   ]
  },
  {
   "cell_type": "code",
   "execution_count": 96,
   "metadata": {
    "ExecuteTime": {
     "end_time": "2020-02-08T20:40:48.548616Z",
     "start_time": "2020-02-08T20:40:48.539238Z"
    }
   },
   "outputs": [
    {
     "name": "stdout",
     "output_type": "stream",
     "text": [
      "The youngest person is : 7\n",
      "The oldest person is: 43\n"
     ]
    }
   ],
   "source": [
    "youngest = ages[0]\n",
    "oldest = ages[0]\n",
    "for i in ages:\n",
    "    if i > oldest:\n",
    "        oldest = i\n",
    "    if i < youngest:\n",
    "        youngest = i\n",
    "print(f'The youngest person is : {youngest}')\n",
    "print(f'The oldest person is: {oldest}')"
   ]
  },
  {
   "cell_type": "markdown",
   "metadata": {
    "ExecuteTime": {
     "end_time": "2020-02-08T20:39:45.227861Z",
     "start_time": "2020-02-08T20:39:45.219466Z"
    }
   },
   "source": [
    "### Reversing list"
   ]
  },
  {
   "cell_type": "code",
   "execution_count": 107,
   "metadata": {
    "ExecuteTime": {
     "end_time": "2020-02-08T20:44:05.939474Z",
     "start_time": "2020-02-08T20:44:05.930601Z"
    }
   },
   "outputs": [
    {
     "data": {
      "text/plain": [
       "[45, 70, 200, 18, 588, 731, 809]"
      ]
     },
     "execution_count": 107,
     "metadata": {},
     "output_type": "execute_result"
    }
   ],
   "source": [
    "nums = list(cars.Cars_per_cap)\n",
    "rev = nums[::-1]\n",
    "rev"
   ]
  },
  {
   "cell_type": "code",
   "execution_count": 115,
   "metadata": {
    "ExecuteTime": {
     "end_time": "2020-02-08T20:46:44.692208Z",
     "start_time": "2020-02-08T20:46:44.686872Z"
    }
   },
   "outputs": [
    {
     "name": "stdout",
     "output_type": "stream",
     "text": [
      "[45, 70, 200, 18, 588, 731, 809]\n"
     ]
    }
   ],
   "source": [
    "rev_list = []\n",
    "for i in range(1,len(nums)+1):\n",
    "    rev_list.append(nums[-i])\n",
    "print(rev_list)    "
   ]
  },
  {
   "cell_type": "markdown",
   "metadata": {
    "ExecuteTime": {
     "end_time": "2020-02-08T20:46:22.123325Z",
     "start_time": "2020-02-08T20:46:22.115117Z"
    }
   },
   "source": [
    "### Reversing string "
   ]
  },
  {
   "cell_type": "code",
   "execution_count": 124,
   "metadata": {
    "ExecuteTime": {
     "end_time": "2020-02-08T20:55:17.495214Z",
     "start_time": "2020-02-08T20:55:17.485185Z"
    }
   },
   "outputs": [
    {
     "data": {
      "text/plain": [
       "'OLLEH'"
      ]
     },
     "execution_count": 124,
     "metadata": {},
     "output_type": "execute_result"
    }
   ],
   "source": [
    "word = 'Hello'\n",
    "rev_word = str()\n",
    "for i in word:\n",
    "    rev_word = i.upper() + rev_word\n",
    "rev_word"
   ]
  },
  {
   "cell_type": "code",
   "execution_count": 130,
   "metadata": {
    "ExecuteTime": {
     "end_time": "2020-02-09T00:44:36.207640Z",
     "start_time": "2020-02-09T00:44:36.199237Z"
    }
   },
   "outputs": [
    {
     "name": "stdout",
     "output_type": "stream",
     "text": [
      "Python say, can I than more you love I \n"
     ]
    }
   ],
   "source": [
    "sentence = \"I love you more than I can say, Python\"\n",
    "r_sentence = str()\n",
    "for i in sentence.split(' '):\n",
    "    r_sentence = i + ' ' + r_sentence\n",
    "print(r_sentence)"
   ]
  },
  {
   "cell_type": "code",
   "execution_count": 147,
   "metadata": {
    "ExecuteTime": {
     "end_time": "2020-02-09T00:52:55.917409Z",
     "start_time": "2020-02-09T00:52:55.898613Z"
    }
   },
   "outputs": [
    {
     "data": {
      "text/html": [
       "<div>\n",
       "<style scoped>\n",
       "    .dataframe tbody tr th:only-of-type {\n",
       "        vertical-align: middle;\n",
       "    }\n",
       "\n",
       "    .dataframe tbody tr th {\n",
       "        vertical-align: top;\n",
       "    }\n",
       "\n",
       "    .dataframe thead th {\n",
       "        text-align: right;\n",
       "    }\n",
       "</style>\n",
       "<table border=\"1\" class=\"dataframe\">\n",
       "  <thead>\n",
       "    <tr style=\"text-align: right;\">\n",
       "      <th></th>\n",
       "      <th>Country</th>\n",
       "      <th>drives_right</th>\n",
       "      <th>Cars_per_cap</th>\n",
       "      <th>Economic_rank</th>\n",
       "    </tr>\n",
       "  </thead>\n",
       "  <tbody>\n",
       "    <tr>\n",
       "      <th>AUS</th>\n",
       "      <td>Australia</td>\n",
       "      <td>False</td>\n",
       "      <td>731</td>\n",
       "      <td>Very Well</td>\n",
       "    </tr>\n",
       "  </tbody>\n",
       "</table>\n",
       "</div>"
      ],
      "text/plain": [
       "       Country  drives_right  Cars_per_cap Economic_rank\n",
       "AUS  Australia         False           731     Very Well"
      ]
     },
     "execution_count": 147,
     "metadata": {},
     "output_type": "execute_result"
    }
   ],
   "source": [
    "cars.loc[cars['Country']=='Australia']"
   ]
  },
  {
   "cell_type": "code",
   "execution_count": 148,
   "metadata": {
    "ExecuteTime": {
     "end_time": "2020-02-09T00:53:28.910501Z",
     "start_time": "2020-02-09T00:53:28.895005Z"
    }
   },
   "outputs": [
    {
     "data": {
      "text/html": [
       "<div>\n",
       "<style scoped>\n",
       "    .dataframe tbody tr th:only-of-type {\n",
       "        vertical-align: middle;\n",
       "    }\n",
       "\n",
       "    .dataframe tbody tr th {\n",
       "        vertical-align: top;\n",
       "    }\n",
       "\n",
       "    .dataframe thead th {\n",
       "        text-align: right;\n",
       "    }\n",
       "</style>\n",
       "<table border=\"1\" class=\"dataframe\">\n",
       "  <thead>\n",
       "    <tr style=\"text-align: right;\">\n",
       "      <th></th>\n",
       "      <th>Country</th>\n",
       "      <th>Cars_per_cap</th>\n",
       "      <th>Economic_rank</th>\n",
       "    </tr>\n",
       "    <tr>\n",
       "      <th>drives_right</th>\n",
       "      <th></th>\n",
       "      <th></th>\n",
       "      <th></th>\n",
       "    </tr>\n",
       "  </thead>\n",
       "  <tbody>\n",
       "    <tr>\n",
       "      <th>False</th>\n",
       "      <td>3</td>\n",
       "      <td>3</td>\n",
       "      <td>3</td>\n",
       "    </tr>\n",
       "    <tr>\n",
       "      <th>True</th>\n",
       "      <td>4</td>\n",
       "      <td>4</td>\n",
       "      <td>4</td>\n",
       "    </tr>\n",
       "  </tbody>\n",
       "</table>\n",
       "</div>"
      ],
      "text/plain": [
       "              Country  Cars_per_cap  Economic_rank\n",
       "drives_right                                      \n",
       "False               3             3              3\n",
       "True                4             4              4"
      ]
     },
     "execution_count": 148,
     "metadata": {},
     "output_type": "execute_result"
    }
   ],
   "source": [
    "cars.groupby(['drives_right']).count()"
   ]
  },
  {
   "cell_type": "code",
   "execution_count": 151,
   "metadata": {
    "ExecuteTime": {
     "end_time": "2020-02-09T00:56:26.100572Z",
     "start_time": "2020-02-09T00:56:26.084067Z"
    }
   },
   "outputs": [
    {
     "data": {
      "text/html": [
       "<div>\n",
       "<style scoped>\n",
       "    .dataframe tbody tr th:only-of-type {\n",
       "        vertical-align: middle;\n",
       "    }\n",
       "\n",
       "    .dataframe tbody tr th {\n",
       "        vertical-align: top;\n",
       "    }\n",
       "\n",
       "    .dataframe thead th {\n",
       "        text-align: right;\n",
       "    }\n",
       "</style>\n",
       "<table border=\"1\" class=\"dataframe\">\n",
       "  <thead>\n",
       "    <tr style=\"text-align: right;\">\n",
       "      <th></th>\n",
       "      <th>Country</th>\n",
       "      <th>drives_right</th>\n",
       "      <th>Cars_per_cap</th>\n",
       "      <th>Economic_rank</th>\n",
       "      <th>Development</th>\n",
       "    </tr>\n",
       "  </thead>\n",
       "  <tbody>\n",
       "    <tr>\n",
       "      <th>US</th>\n",
       "      <td>Untied States</td>\n",
       "      <td>True</td>\n",
       "      <td>809</td>\n",
       "      <td>Very Well</td>\n",
       "      <td>Dev</td>\n",
       "    </tr>\n",
       "    <tr>\n",
       "      <th>AUS</th>\n",
       "      <td>Australia</td>\n",
       "      <td>False</td>\n",
       "      <td>731</td>\n",
       "      <td>Very Well</td>\n",
       "      <td>Under</td>\n",
       "    </tr>\n",
       "    <tr>\n",
       "      <th>JPN</th>\n",
       "      <td>Japan</td>\n",
       "      <td>False</td>\n",
       "      <td>588</td>\n",
       "      <td>high</td>\n",
       "      <td>Under</td>\n",
       "    </tr>\n",
       "    <tr>\n",
       "      <th>IN</th>\n",
       "      <td>China</td>\n",
       "      <td>False</td>\n",
       "      <td>18</td>\n",
       "      <td>Very Low</td>\n",
       "      <td>Under</td>\n",
       "    </tr>\n",
       "    <tr>\n",
       "      <th>RU</th>\n",
       "      <td>Russia</td>\n",
       "      <td>True</td>\n",
       "      <td>200</td>\n",
       "      <td>medium</td>\n",
       "      <td>Under</td>\n",
       "    </tr>\n",
       "    <tr>\n",
       "      <th>MOR</th>\n",
       "      <td>Morocco</td>\n",
       "      <td>True</td>\n",
       "      <td>70</td>\n",
       "      <td>low</td>\n",
       "      <td>Under</td>\n",
       "    </tr>\n",
       "    <tr>\n",
       "      <th>EG</th>\n",
       "      <td>Egypt</td>\n",
       "      <td>True</td>\n",
       "      <td>45</td>\n",
       "      <td>low</td>\n",
       "      <td>Under</td>\n",
       "    </tr>\n",
       "  </tbody>\n",
       "</table>\n",
       "</div>"
      ],
      "text/plain": [
       "           Country  drives_right  Cars_per_cap Economic_rank Development\n",
       "US   Untied States          True           809     Very Well         Dev\n",
       "AUS      Australia         False           731     Very Well       Under\n",
       "JPN          Japan         False           588          high       Under\n",
       "IN           China         False            18      Very Low       Under\n",
       "RU          Russia          True           200        medium       Under\n",
       "MOR        Morocco          True            70           low       Under\n",
       "EG           Egypt          True            45           low       Under"
      ]
     },
     "execution_count": 151,
     "metadata": {},
     "output_type": "execute_result"
    }
   ],
   "source": [
    "cars['Development'] = cars['Country'].apply(lambda name: 'Dev' if name in ['Untied States'] else 'Under')\n",
    "cars"
   ]
  },
  {
   "cell_type": "code",
   "execution_count": 154,
   "metadata": {
    "ExecuteTime": {
     "end_time": "2020-02-09T00:58:43.672016Z",
     "start_time": "2020-02-09T00:58:43.656162Z"
    }
   },
   "outputs": [
    {
     "data": {
      "text/html": [
       "<div>\n",
       "<style scoped>\n",
       "    .dataframe tbody tr th:only-of-type {\n",
       "        vertical-align: middle;\n",
       "    }\n",
       "\n",
       "    .dataframe tbody tr th {\n",
       "        vertical-align: top;\n",
       "    }\n",
       "\n",
       "    .dataframe thead th {\n",
       "        text-align: right;\n",
       "    }\n",
       "</style>\n",
       "<table border=\"1\" class=\"dataframe\">\n",
       "  <thead>\n",
       "    <tr style=\"text-align: right;\">\n",
       "      <th></th>\n",
       "      <th>sis</th>\n",
       "      <th>GBB</th>\n",
       "      <th>Abel</th>\n",
       "    </tr>\n",
       "  </thead>\n",
       "  <tbody>\n",
       "    <tr>\n",
       "      <th>la</th>\n",
       "      <td>32</td>\n",
       "      <td>34</td>\n",
       "      <td>33</td>\n",
       "    </tr>\n",
       "    <tr>\n",
       "      <th>ke</th>\n",
       "      <td>32</td>\n",
       "      <td>34</td>\n",
       "      <td>33</td>\n",
       "    </tr>\n",
       "    <tr>\n",
       "      <th>ml</th>\n",
       "      <td>32</td>\n",
       "      <td>34</td>\n",
       "      <td>33</td>\n",
       "    </tr>\n",
       "  </tbody>\n",
       "</table>\n",
       "</div>"
      ],
      "text/plain": [
       "    sis  GBB  Abel\n",
       "la   32   34    33\n",
       "ke   32   34    33\n",
       "ml   32   34    33"
      ]
     },
     "execution_count": 154,
     "metadata": {},
     "output_type": "execute_result"
    }
   ],
   "source": [
    "name_dict = {'sis':32, 'GBB':34, 'Abel':33,}\n",
    "df = pd.DataFrame(name_dict, index=['la','ke','ml'])\n",
    "df.groupby('')"
   ]
  },
  {
   "cell_type": "code",
   "execution_count": 162,
   "metadata": {
    "ExecuteTime": {
     "end_time": "2020-02-09T01:11:58.367693Z",
     "start_time": "2020-02-09T01:11:58.352005Z"
    }
   },
   "outputs": [
    {
     "data": {
      "text/html": [
       "<div>\n",
       "<style scoped>\n",
       "    .dataframe tbody tr th:only-of-type {\n",
       "        vertical-align: middle;\n",
       "    }\n",
       "\n",
       "    .dataframe tbody tr th {\n",
       "        vertical-align: top;\n",
       "    }\n",
       "\n",
       "    .dataframe thead th {\n",
       "        text-align: right;\n",
       "    }\n",
       "</style>\n",
       "<table border=\"1\" class=\"dataframe\">\n",
       "  <thead>\n",
       "    <tr style=\"text-align: right;\">\n",
       "      <th></th>\n",
       "      <th>Country</th>\n",
       "      <th>Development</th>\n",
       "    </tr>\n",
       "  </thead>\n",
       "  <tbody>\n",
       "    <tr>\n",
       "      <th>JPN</th>\n",
       "      <td>Japan</td>\n",
       "      <td>Under</td>\n",
       "    </tr>\n",
       "    <tr>\n",
       "      <th>EG</th>\n",
       "      <td>Egypt</td>\n",
       "      <td>Under</td>\n",
       "    </tr>\n",
       "  </tbody>\n",
       "</table>\n",
       "</div>"
      ],
      "text/plain": [
       "    Country Development\n",
       "JPN   Japan       Under\n",
       "EG    Egypt       Under"
      ]
     },
     "execution_count": 162,
     "metadata": {},
     "output_type": "execute_result"
    }
   ],
   "source": [
    "cars.loc[['JPN','EG'],['Country','Development']]"
   ]
  },
  {
   "cell_type": "markdown",
   "metadata": {},
   "source": [
    "I didn't know this! this is a beauty of pandas"
   ]
  },
  {
   "cell_type": "code",
   "execution_count": 189,
   "metadata": {
    "ExecuteTime": {
     "end_time": "2020-02-09T01:37:04.011476Z",
     "start_time": "2020-02-09T01:37:03.998444Z"
    }
   },
   "outputs": [
    {
     "name": "stdout",
     "output_type": "stream",
     "text": [
      "<class 'pandas.core.series.Series'>\n",
      "<class 'pandas.core.frame.DataFrame'>\n"
     ]
    },
    {
     "data": {
      "text/plain": [
       "True"
      ]
     },
     "execution_count": 189,
     "metadata": {},
     "output_type": "execute_result"
    }
   ],
   "source": [
    "print(type(cars.loc['MOR'])) # this is a series\n",
    "print(type(cars.loc[['MOR']])) # this is a dataframe\n",
    "cars.loc['MOR', 'drives_right'] # this is a value"
   ]
  },
  {
   "cell_type": "code",
   "execution_count": 183,
   "metadata": {
    "ExecuteTime": {
     "end_time": "2020-02-09T01:34:22.782326Z",
     "start_time": "2020-02-09T01:34:22.771726Z"
    }
   },
   "outputs": [
    {
     "data": {
      "text/plain": [
       "MOR    True\n",
       "Name: drives_right, dtype: bool"
      ]
     },
     "execution_count": 183,
     "metadata": {},
     "output_type": "execute_result"
    }
   ],
   "source": [
    "cars[cars.index=='MOR']['drives_right']"
   ]
  },
  {
   "cell_type": "code",
   "execution_count": 203,
   "metadata": {
    "ExecuteTime": {
     "end_time": "2020-02-09T01:41:08.218506Z",
     "start_time": "2020-02-09T01:41:08.209993Z"
    }
   },
   "outputs": [
    {
     "name": "stdout",
     "output_type": "stream",
     "text": [
      "70\n",
      "70\n"
     ]
    }
   ],
   "source": [
    "print(cars.loc['MOR','Cars_per_cap'])\n",
    "# alternatively \n",
    "print(cars['Cars_per_cap']['MOR'])"
   ]
  },
  {
   "cell_type": "code",
   "execution_count": 214,
   "metadata": {
    "ExecuteTime": {
     "end_time": "2020-02-09T01:50:27.908817Z",
     "start_time": "2020-02-09T01:50:27.900213Z"
    }
   },
   "outputs": [
    {
     "data": {
      "text/plain": [
       "US      True\n",
       "AUS    False\n",
       "JPN    False\n",
       "IN     False\n",
       "RU      True\n",
       "MOR     True\n",
       "EG      True\n",
       "Name: drives_right, dtype: bool"
      ]
     },
     "execution_count": 214,
     "metadata": {},
     "output_type": "execute_result"
    }
   ],
   "source": [
    "cars.loc[:,'drives_right']\n",
    "cars['drives_right']\n",
    "# those two are the same "
   ]
  },
  {
   "cell_type": "code",
   "execution_count": 224,
   "metadata": {
    "ExecuteTime": {
     "end_time": "2020-02-09T15:06:38.247953Z",
     "start_time": "2020-02-09T15:06:38.230410Z"
    }
   },
   "outputs": [
    {
     "data": {
      "text/html": [
       "<div>\n",
       "<style scoped>\n",
       "    .dataframe tbody tr th:only-of-type {\n",
       "        vertical-align: middle;\n",
       "    }\n",
       "\n",
       "    .dataframe tbody tr th {\n",
       "        vertical-align: top;\n",
       "    }\n",
       "\n",
       "    .dataframe thead th {\n",
       "        text-align: right;\n",
       "    }\n",
       "</style>\n",
       "<table border=\"1\" class=\"dataframe\">\n",
       "  <thead>\n",
       "    <tr style=\"text-align: right;\">\n",
       "      <th></th>\n",
       "      <th>drives_right</th>\n",
       "    </tr>\n",
       "  </thead>\n",
       "  <tbody>\n",
       "    <tr>\n",
       "      <th>US</th>\n",
       "      <td>True</td>\n",
       "    </tr>\n",
       "    <tr>\n",
       "      <th>AUS</th>\n",
       "      <td>False</td>\n",
       "    </tr>\n",
       "    <tr>\n",
       "      <th>JPN</th>\n",
       "      <td>False</td>\n",
       "    </tr>\n",
       "    <tr>\n",
       "      <th>IN</th>\n",
       "      <td>False</td>\n",
       "    </tr>\n",
       "    <tr>\n",
       "      <th>RU</th>\n",
       "      <td>True</td>\n",
       "    </tr>\n",
       "    <tr>\n",
       "      <th>MOR</th>\n",
       "      <td>True</td>\n",
       "    </tr>\n",
       "    <tr>\n",
       "      <th>EG</th>\n",
       "      <td>True</td>\n",
       "    </tr>\n",
       "  </tbody>\n",
       "</table>\n",
       "</div>"
      ],
      "text/plain": [
       "     drives_right\n",
       "US           True\n",
       "AUS         False\n",
       "JPN         False\n",
       "IN          False\n",
       "RU           True\n",
       "MOR          True\n",
       "EG           True"
      ]
     },
     "execution_count": 224,
     "metadata": {},
     "output_type": "execute_result"
    }
   ],
   "source": [
    "cars.loc[:,['drives_right']]\n",
    "cars[['drives_right']]\n",
    "# those two codes are the same "
   ]
  },
  {
   "cell_type": "markdown",
   "metadata": {},
   "source": [
    "change Egypt information to Ethiopia"
   ]
  },
  {
   "cell_type": "code",
   "execution_count": 237,
   "metadata": {
    "ExecuteTime": {
     "end_time": "2020-02-09T15:10:23.205871Z",
     "start_time": "2020-02-09T15:10:23.196910Z"
    }
   },
   "outputs": [],
   "source": [
    "cars.loc[cars['Country']=='Egypt', ['Country', 'Cars_per_cap']] = ['Ethiopia', 30]"
   ]
  },
  {
   "cell_type": "code",
   "execution_count": 280,
   "metadata": {
    "ExecuteTime": {
     "end_time": "2020-02-09T15:20:05.631757Z",
     "start_time": "2020-02-09T15:20:05.614895Z"
    }
   },
   "outputs": [
    {
     "data": {
      "text/html": [
       "<div>\n",
       "<style scoped>\n",
       "    .dataframe tbody tr th:only-of-type {\n",
       "        vertical-align: middle;\n",
       "    }\n",
       "\n",
       "    .dataframe tbody tr th {\n",
       "        vertical-align: top;\n",
       "    }\n",
       "\n",
       "    .dataframe thead th {\n",
       "        text-align: right;\n",
       "    }\n",
       "</style>\n",
       "<table border=\"1\" class=\"dataframe\">\n",
       "  <thead>\n",
       "    <tr style=\"text-align: right;\">\n",
       "      <th></th>\n",
       "      <th>Country</th>\n",
       "      <th>drives_right</th>\n",
       "      <th>Cars_per_cap</th>\n",
       "      <th>Economic_rank</th>\n",
       "      <th>Development</th>\n",
       "    </tr>\n",
       "  </thead>\n",
       "  <tbody>\n",
       "    <tr>\n",
       "      <th>US</th>\n",
       "      <td>Untied States</td>\n",
       "      <td>True</td>\n",
       "      <td>809</td>\n",
       "      <td>Very Well</td>\n",
       "      <td>Dev</td>\n",
       "    </tr>\n",
       "    <tr>\n",
       "      <th>AUS</th>\n",
       "      <td>Australia</td>\n",
       "      <td>False</td>\n",
       "      <td>731</td>\n",
       "      <td>Very Well</td>\n",
       "      <td>Under</td>\n",
       "    </tr>\n",
       "    <tr>\n",
       "      <th>JPN</th>\n",
       "      <td>Japan</td>\n",
       "      <td>False</td>\n",
       "      <td>588</td>\n",
       "      <td>high</td>\n",
       "      <td>Under</td>\n",
       "    </tr>\n",
       "    <tr>\n",
       "      <th>IN</th>\n",
       "      <td>China</td>\n",
       "      <td>False</td>\n",
       "      <td>18</td>\n",
       "      <td>Very Low</td>\n",
       "      <td>Under</td>\n",
       "    </tr>\n",
       "    <tr>\n",
       "      <th>RU</th>\n",
       "      <td>Russia</td>\n",
       "      <td>True</td>\n",
       "      <td>200</td>\n",
       "      <td>medium</td>\n",
       "      <td>Under</td>\n",
       "    </tr>\n",
       "    <tr>\n",
       "      <th>MOR</th>\n",
       "      <td>Morocco</td>\n",
       "      <td>True</td>\n",
       "      <td>70</td>\n",
       "      <td>low</td>\n",
       "      <td>Under</td>\n",
       "    </tr>\n",
       "    <tr>\n",
       "      <th>ET</th>\n",
       "      <td>Ethiopia</td>\n",
       "      <td>True</td>\n",
       "      <td>30</td>\n",
       "      <td>low</td>\n",
       "      <td>Under</td>\n",
       "    </tr>\n",
       "  </tbody>\n",
       "</table>\n",
       "</div>"
      ],
      "text/plain": [
       "           Country  drives_right  Cars_per_cap Economic_rank Development\n",
       "US   Untied States          True           809     Very Well         Dev\n",
       "AUS      Australia         False           731     Very Well       Under\n",
       "JPN          Japan         False           588          high       Under\n",
       "IN           China         False            18      Very Low       Under\n",
       "RU          Russia          True           200        medium       Under\n",
       "MOR        Morocco          True            70           low       Under\n",
       "ET        Ethiopia          True            30           low       Under"
      ]
     },
     "execution_count": 280,
     "metadata": {},
     "output_type": "execute_result"
    }
   ],
   "source": [
    "lst = list(cars.index) #list(cars.index('EG')) to get index number\n",
    "lst[-1] = 'ET'\n",
    "cars.index=lst\n",
    "cars"
   ]
  },
  {
   "cell_type": "code",
   "execution_count": 277,
   "metadata": {
    "ExecuteTime": {
     "end_time": "2020-02-09T15:19:17.357889Z",
     "start_time": "2020-02-09T15:19:17.349972Z"
    }
   },
   "outputs": [
    {
     "data": {
      "text/plain": [
       "['US', 'AUS', 'JPN', 'IN', 'RU', 'MOR', 'ET']"
      ]
     },
     "execution_count": 277,
     "metadata": {},
     "output_type": "execute_result"
    }
   ],
   "source": [
    "lst"
   ]
  },
  {
   "cell_type": "code",
   "execution_count": null,
   "metadata": {},
   "outputs": [],
   "source": []
  }
 ],
 "metadata": {
  "kernelspec": {
   "display_name": "Python 3",
   "language": "python",
   "name": "python3"
  },
  "language_info": {
   "codemirror_mode": {
    "name": "ipython",
    "version": 3
   },
   "file_extension": ".py",
   "mimetype": "text/x-python",
   "name": "python",
   "nbconvert_exporter": "python",
   "pygments_lexer": "ipython3",
   "version": "3.7.4"
  },
  "toc": {
   "base_numbering": 1,
   "nav_menu": {},
   "number_sections": true,
   "sideBar": true,
   "skip_h1_title": false,
   "title_cell": "Table of Contents",
   "title_sidebar": "Contents",
   "toc_cell": false,
   "toc_position": {},
   "toc_section_display": true,
   "toc_window_display": false
  }
 },
 "nbformat": 4,
 "nbformat_minor": 4
}
