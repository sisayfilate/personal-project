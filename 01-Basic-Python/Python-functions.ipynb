{
 "cells": [
  {
   "cell_type": "markdown",
   "metadata": {},
   "source": [
    "## Palindrome"
   ]
  },
  {
   "cell_type": "code",
   "execution_count": 7,
   "metadata": {
    "ExecuteTime": {
     "end_time": "2020-02-25T03:07:20.488764Z",
     "start_time": "2020-02-25T03:07:20.482166Z"
    }
   },
   "outputs": [],
   "source": [
    "# Set up \n",
    "def isPalindrome(word):\n",
    "    # keep track of start and end of word\n",
    "    start = 0\n",
    "    end = len(word)\n",
    "    # compare each pair of characters in the string \n",
    "    while end > start:\n",
    "        # get the characters we want to check\n",
    "        start_char = word[start]\n",
    "        end_char = word[end-1]\n",
    "        # compare characters \n",
    "        if start_char != end_char:\n",
    "            return \"This word is not Palindrome\"\n",
    "        \n",
    "        # go to the next 2 characters \n",
    "        start += 1\n",
    "        end -= 1\n",
    "    # if reach here then word is a palindrome \n",
    "    return \"This word is Palindrome\"    "
   ]
  },
  {
   "cell_type": "code",
   "execution_count": 8,
   "metadata": {
    "ExecuteTime": {
     "end_time": "2020-02-25T03:07:20.988569Z",
     "start_time": "2020-02-25T03:07:20.981191Z"
    }
   },
   "outputs": [
    {
     "name": "stdout",
     "output_type": "stream",
     "text": [
      "This word is Palindrome\n",
      "This word is not Palindrome\n"
     ]
    }
   ],
   "source": [
    "print(isPalindrome('racecar'))\n",
    "print(isPalindrome('indeed'))"
   ]
  },
  {
   "cell_type": "markdown",
   "metadata": {},
   "source": [
    "## Multi-Palindrome"
   ]
  },
  {
   "cell_type": "code",
   "execution_count": 9,
   "metadata": {
    "ExecuteTime": {
     "end_time": "2020-02-25T03:07:25.469676Z",
     "start_time": "2020-02-25T03:07:25.463709Z"
    }
   },
   "outputs": [],
   "source": [
    "import re\n",
    "def isWordPalindrome(sentence):\n",
    "    lower_case = sentence.lower()\n",
    "    letter_only = re.sub(r'[^a-zA-Z]', \"\", lower_case)\n",
    "    \n",
    "    return isPalindrome(letter_only)"
   ]
  },
  {
   "cell_type": "code",
   "execution_count": 10,
   "metadata": {
    "ExecuteTime": {
     "end_time": "2020-02-25T03:07:26.251194Z",
     "start_time": "2020-02-25T03:07:26.244561Z"
    }
   },
   "outputs": [
    {
     "name": "stdout",
     "output_type": "stream",
     "text": [
      "This word is Palindrome\n"
     ]
    }
   ],
   "source": [
    "sent = \"A man, a plan, a canal, panama\"\n",
    "print(isWordPalindrome(sent))"
   ]
  },
  {
   "cell_type": "markdown",
   "metadata": {
    "ExecuteTime": {
     "end_time": "2020-02-17T19:29:15.014053Z",
     "start_time": "2020-02-17T19:29:15.006697Z"
    }
   },
   "source": [
    "## Fibonacci numbers "
   ]
  },
  {
   "cell_type": "code",
   "execution_count": 12,
   "metadata": {
    "ExecuteTime": {
     "end_time": "2020-02-25T03:09:32.835531Z",
     "start_time": "2020-02-25T03:09:32.818906Z"
    }
   },
   "outputs": [
    {
     "data": {
      "text/plain": [
       "(0, 1, 1, 2, 3, 5, 8, 13, 21)"
      ]
     },
     "execution_count": 12,
     "metadata": {},
     "output_type": "execute_result"
    }
   ],
   "source": [
    "0, 1, 1, 2, 3, 5, 8, 13, 21 "
   ]
  },
  {
   "cell_type": "code",
   "execution_count": 75,
   "metadata": {
    "ExecuteTime": {
     "end_time": "2020-02-28T20:54:51.814109Z",
     "start_time": "2020-02-28T20:54:51.750643Z"
    }
   },
   "outputs": [],
   "source": [
    "def fibonacci(num):\n",
    "    # check that the input is a positive integer \n",
    "    if type(num) != int:\n",
    "        raise TypeError(\"num must be a positive int\")\n",
    "    if num < 1:\n",
    "        raise ValueError(\"num must be a positive int\")\n",
    "    # cumpute the Nth term\n",
    "    if num == 1:\n",
    "        return 1\n",
    "    elif num == 2:\n",
    "        return 2\n",
    "    elif num > 2:\n",
    "#         for i in range(1, num):\n",
    "        return fibonacci(num-1) + fibonacci(num-2)"
   ]
  },
  {
   "cell_type": "code",
   "execution_count": 76,
   "metadata": {
    "ExecuteTime": {
     "end_time": "2020-02-28T20:54:52.861360Z",
     "start_time": "2020-02-28T20:54:52.854052Z"
    }
   },
   "outputs": [
    {
     "name": "stdout",
     "output_type": "stream",
     "text": [
      "1\n",
      "2\n",
      "3\n",
      "5\n",
      "8\n",
      "13\n",
      "21\n"
     ]
    }
   ],
   "source": [
    "for n in range(1, 8):\n",
    "    print(fibonacci(n))"
   ]
  },
  {
   "cell_type": "code",
   "execution_count": 44,
   "metadata": {
    "ExecuteTime": {
     "end_time": "2020-02-25T03:53:01.300881Z",
     "start_time": "2020-02-25T03:53:01.296366Z"
    }
   },
   "outputs": [],
   "source": [
    "# print(fibonacci(-1))\n",
    "# print(fibonacci(2.1))"
   ]
  },
  {
   "cell_type": "code",
   "execution_count": 77,
   "metadata": {
    "ExecuteTime": {
     "end_time": "2020-02-28T20:55:01.820429Z",
     "start_time": "2020-02-28T20:55:01.814215Z"
    }
   },
   "outputs": [],
   "source": [
    "def fibonacci_series(n):\n",
    "    # check that the input is a positive integer \n",
    "    if type(n) != int:\n",
    "        raise TypeError(\"num must be a positive int\")\n",
    "    if n < 1:\n",
    "        raise ValueError(\"num must be a positive int\")\n",
    "    # cumpute the Nth term\n",
    "    if n == 1:\n",
    "        return 1\n",
    "    elif n == 2:\n",
    "        return 2\n",
    "    elif n > 2:\n",
    "        a, b = 1, 1\n",
    "        for i in range(n):\n",
    "            print(b) \n",
    "            a, b = b, a+b"
   ]
  },
  {
   "cell_type": "code",
   "execution_count": 80,
   "metadata": {
    "ExecuteTime": {
     "end_time": "2020-02-28T20:55:28.363957Z",
     "start_time": "2020-02-28T20:55:28.356924Z"
    }
   },
   "outputs": [
    {
     "name": "stdout",
     "output_type": "stream",
     "text": [
      "1\n",
      "2\n",
      "3\n",
      "5\n",
      "8\n",
      "13\n"
     ]
    }
   ],
   "source": [
    "fibonacci_series(6)"
   ]
  },
  {
   "cell_type": "code",
   "execution_count": null,
   "metadata": {},
   "outputs": [],
   "source": []
  }
 ],
 "metadata": {
  "kernelspec": {
   "display_name": "Python 3",
   "language": "python",
   "name": "python3"
  },
  "language_info": {
   "codemirror_mode": {
    "name": "ipython",
    "version": 3
   },
   "file_extension": ".py",
   "mimetype": "text/x-python",
   "name": "python",
   "nbconvert_exporter": "python",
   "pygments_lexer": "ipython3",
   "version": "3.7.4"
  },
  "toc": {
   "base_numbering": 1,
   "nav_menu": {},
   "number_sections": true,
   "sideBar": true,
   "skip_h1_title": false,
   "title_cell": "Table of Contents",
   "title_sidebar": "Contents",
   "toc_cell": false,
   "toc_position": {},
   "toc_section_display": true,
   "toc_window_display": false
  }
 },
 "nbformat": 4,
 "nbformat_minor": 4
}
