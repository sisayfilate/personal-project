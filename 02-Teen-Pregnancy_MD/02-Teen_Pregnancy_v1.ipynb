{
 "cells": [
  {
   "cell_type": "code",
   "execution_count": 1,
   "metadata": {},
   "outputs": [],
   "source": [
    "import pandas"
   ]
  },
  {
   "cell_type": "code",
   "execution_count": 30,
   "metadata": {},
   "outputs": [
    {
     "data": {
      "text/html": [
       "<div>\n",
       "<style scoped>\n",
       "    .dataframe tbody tr th:only-of-type {\n",
       "        vertical-align: middle;\n",
       "    }\n",
       "\n",
       "    .dataframe tbody tr th {\n",
       "        vertical-align: top;\n",
       "    }\n",
       "\n",
       "    .dataframe thead th {\n",
       "        text-align: right;\n",
       "    }\n",
       "</style>\n",
       "<table border=\"1\" class=\"dataframe\">\n",
       "  <thead>\n",
       "    <tr style=\"text-align: right;\">\n",
       "      <th></th>\n",
       "      <th>Jurisdiction</th>\n",
       "      <th>Value</th>\n",
       "      <th>Race/ ethnicity</th>\n",
       "      <th>Year</th>\n",
       "      <th>Measure</th>\n",
       "    </tr>\n",
       "  </thead>\n",
       "  <tbody>\n",
       "    <tr>\n",
       "      <th>0</th>\n",
       "      <td>State</td>\n",
       "      <td>14.2</td>\n",
       "      <td>All races/ ethnicities (aggregated)</td>\n",
       "      <td>2017.0</td>\n",
       "      <td>Teen birth rate</td>\n",
       "    </tr>\n",
       "    <tr>\n",
       "      <th>1</th>\n",
       "      <td>State</td>\n",
       "      <td>18.0</td>\n",
       "      <td>Black Non-Hispanic</td>\n",
       "      <td>2017.0</td>\n",
       "      <td>Teen birth rate</td>\n",
       "    </tr>\n",
       "    <tr>\n",
       "      <th>2</th>\n",
       "      <td>State</td>\n",
       "      <td>37.8</td>\n",
       "      <td>Hispanic</td>\n",
       "      <td>2017.0</td>\n",
       "      <td>Teen birth rate</td>\n",
       "    </tr>\n",
       "    <tr>\n",
       "      <th>3</th>\n",
       "      <td>State</td>\n",
       "      <td>7.3</td>\n",
       "      <td>White Non-Hispanic</td>\n",
       "      <td>2017.0</td>\n",
       "      <td>Teen birth rate</td>\n",
       "    </tr>\n",
       "    <tr>\n",
       "      <th>4</th>\n",
       "      <td>State</td>\n",
       "      <td>15.9</td>\n",
       "      <td>All races/ ethnicities (aggregated)</td>\n",
       "      <td>2016.0</td>\n",
       "      <td>Teen birth rate</td>\n",
       "    </tr>\n",
       "  </tbody>\n",
       "</table>\n",
       "</div>"
      ],
      "text/plain": [
       "  Jurisdiction  Value                      Race/ ethnicity    Year  \\\n",
       "0        State   14.2  All races/ ethnicities (aggregated)  2017.0   \n",
       "1        State   18.0                   Black Non-Hispanic  2017.0   \n",
       "2        State   37.8                             Hispanic  2017.0   \n",
       "3        State    7.3                   White Non-Hispanic  2017.0   \n",
       "4        State   15.9  All races/ ethnicities (aggregated)  2016.0   \n",
       "\n",
       "           Measure  \n",
       "0  Teen birth rate  \n",
       "1  Teen birth rate  \n",
       "2  Teen birth rate  \n",
       "3  Teen birth rate  \n",
       "4  Teen birth rate  "
      ]
     },
     "execution_count": 30,
     "metadata": {},
     "output_type": "execute_result"
    }
   ],
   "source": [
    "df = pandas.read_csv('SHIP_Teen_Birth_Rate_2010-2017.csv')\n",
    "df_new=df.dropna()\n",
    "df_new.head()"
   ]
  },
  {
   "cell_type": "code",
   "execution_count": 16,
   "metadata": {},
   "outputs": [],
   "source": [
    "import matplotlib.pyplot as plt"
   ]
  },
  {
   "cell_type": "code",
   "execution_count": 24,
   "metadata": {},
   "outputs": [],
   "source": [
    "x_value = df_new['Year']\n",
    "y_value = df_new['Value']"
   ]
  },
  {
   "cell_type": "code",
   "execution_count": 31,
   "metadata": {},
   "outputs": [
    {
     "data": {
      "text/plain": [
       "Race/ ethnicity\n",
       "All races/ ethnicities (aggregated)    AxesSubplot(0.125,0.125;0.775x0.755)\n",
       "Black Non-Hispanic                     AxesSubplot(0.125,0.125;0.775x0.755)\n",
       "Hispanic                               AxesSubplot(0.125,0.125;0.775x0.755)\n",
       "White Non-Hispanic                     AxesSubplot(0.125,0.125;0.775x0.755)\n",
       "Name: Value, dtype: object"
      ]
     },
     "execution_count": 31,
     "metadata": {},
     "output_type": "execute_result"
    },
    {
     "data": {
      "image/png": "[encoded data removed]",
      "text/plain": [
       "<Figure size 432x288 with 1 Axes>"
      ]
     },
     "metadata": {
      "needs_background": "light"
     },
     "output_type": "display_data"
    }
   ],
   "source": [
    "df_new.set_index('Year',inplace=True)\n",
    "df_new.groupby('Race/ ethnicity')['Value'].plot(legend=True)"
   ]
  },
  {
   "cell_type": "code",
   "execution_count": null,
   "metadata": {},
   "outputs": [],
   "source": []
  }
 ],
 "metadata": {
  "kernelspec": {
   "display_name": "Python 3",
   "language": "python",
   "name": "python3"
  },
  "language_info": {
   "codemirror_mode": {
    "name": "ipython",
    "version": 3
   },
   "file_extension": ".py",
   "mimetype": "text/x-python",
   "name": "python",
   "nbconvert_exporter": "python",
   "pygments_lexer": "ipython3",
   "version": "3.7.3"
  }
 },
 "nbformat": 4,
 "nbformat_minor": 2
}
